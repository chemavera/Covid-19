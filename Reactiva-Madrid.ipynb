{
 "cells": [
  {
   "cell_type": "code",
   "execution_count": 1,
   "metadata": {},
   "outputs": [],
   "source": [
    "import geojson\n",
    "import pandas as pd\n",
    "\n",
    "import plotly.graph_objects as go"
   ]
  },
  {
   "cell_type": "markdown",
   "metadata": {},
   "source": [
    "* Primero se reciben los datos de la comunidad de Madrid sobre el estado de los casos de covid-19.\n",
    "* Después se tratan para eliminar los registros de las horas y convertir los datos a los formatos correspondientes.\n",
    "* Por último se crean diferentes listas para ver los registros de máxima incidencia, así como los días y municipios donde se registran."
   ]
  },
  {
   "cell_type": "code",
   "execution_count": 2,
   "metadata": {},
   "outputs": [],
   "source": [
    "url = 'https://datos.comunidad.madrid/catalogo/dataset/7da43feb-8d4d-47e0-abd5-3d022d29d09e/resource/b2a3a3f9-1f82-42c2-89c7-cbd3ef801412/download/covid19_tia_muni_y_distritos.csv'\n",
    "\n",
    "df_covid = pd.read_csv(url, encoding=\"ANSI\", sep=';')\n",
    "\n",
    "#Es necesario el bucle y la función \".loc()\" ya que no vamos a reemplazar toda la fecha, \n",
    "#solo a eliminar la hora de registro.\n",
    "for x in range(len(df_covid['tasa_incidencia_acumulada_total'])):\n",
    "    df_covid.loc[x, 'tasa_incidencia_acumulada_ultimos_14dias'] = float(df_covid.loc[x, 'tasa_incidencia_acumulada_ultimos_14dias'].replace(\",\", \".\"))\n",
    "    df_covid.loc[x, 'tasa_incidencia_acumulada_total'] = float(df_covid.loc[x, 'tasa_incidencia_acumulada_total'].replace(\",\", \".\"))\n",
    "    df_covid.loc[x, 'fecha_informe'] = df_covid.loc[x, 'fecha_informe'].replace(\" 07:00:00\", \"\")\n",
    "    df_covid.loc[x, 'fecha_informe'] = df_covid.loc[x, 'fecha_informe'].replace(\" 09:00:00\", \"\")\n",
    "\n",
    "df_covid = df_covid.drop(df_covid[df_covid['fecha_informe']=='2020/05/02'].index)\n",
    "ls_day = df_covid['fecha_informe'].unique()\n",
    "ls_day.sort()\n",
    "ls_municipios = df_covid['municipio_distrito'].unique()\n",
    "\n",
    "ls_cc = []\n",
    "ls_ta = []\n",
    "ls_cct = []\n",
    "ls_tat = []\n",
    "for i in range(len(ls_day)):\n",
    "    ls_CC = sum(df_covid[df_covid['fecha_informe'] == ls_day[i]]['casos_confirmados_ultimos_14dias'].fillna(0))\n",
    "    ls_cc.append(ls_CC)\n",
    "    ls_TA = sum(df_covid[df_covid['fecha_informe'] == ls_day[i]]['tasa_incidencia_acumulada_ultimos_14dias'].fillna(0))\n",
    "    ls_ta.append(ls_TA)\n",
    "    ls_CCT = sum(df_covid[df_covid['fecha_informe'] == ls_day[i]]['casos_confirmados_totales'].fillna(0))\n",
    "    ls_cct.append(ls_CCT)\n",
    "    ls_TAT = sum(df_covid[df_covid['fecha_informe'] == ls_day[i]]['tasa_incidencia_acumulada_total'].fillna(0))\n",
    "    ls_tat.append(ls_TAT)\n",
    "\n",
    "max_T = max(df_covid['casos_confirmados_totales'].fillna(0))\n",
    "max_c = max(df_covid['casos_confirmados_ultimos_14dias'].fillna(0))\n",
    "max_tT = max(df_covid['tasa_incidencia_acumulada_total'].fillna(0))\n",
    "max_t = max(df_covid['tasa_incidencia_acumulada_ultimos_14dias'].fillna(0))  "
   ]
  },
  {
   "cell_type": "code",
   "execution_count": 3,
   "metadata": {},
   "outputs": [
    {
     "name": "stdout",
     "output_type": "stream",
     "text": [
      "Máximo TOTAL casos confirmados acumulado: 3403.0, Municipio: Leganés, Día: 2020/07/01\n",
      "Máximo casos confirmados: 1403.0, Municipio: Leganés, Día: 2020/04/07\n",
      "Máxima tasa de incidencia acumulada TOTAL: 3508.77, Municipio: La Hiruela, Periodo: 2020/07/01-2020/05/28\n",
      "Máxima tasa de incidencia acumulada: 2492.75, Municipio: Colmenar del Arroyo, Día: 2020/05/08\n"
     ]
    }
   ],
   "source": [
    "max_m_T = df_covid[df_covid['casos_confirmados_totales'] == max_T]['municipio_distrito'].unique()\n",
    "max_d_T = df_covid[df_covid['casos_confirmados_totales'] == max_T]['fecha_informe'].unique()\n",
    "max_m_c = df_covid[df_covid['casos_confirmados_ultimos_14dias'] == max_c]['municipio_distrito'].unique()\n",
    "max_d_c = df_covid[df_covid['casos_confirmados_ultimos_14dias'] == max_c]['fecha_informe'].unique()\n",
    "max_m_tT = df_covid[df_covid['tasa_incidencia_acumulada_total'] == max_tT]['municipio_distrito'].unique()\n",
    "max_d_tT = df_covid[df_covid['tasa_incidencia_acumulada_total'] == max_tT]['fecha_informe'].unique()\n",
    "max_m_t = df_covid[df_covid['tasa_incidencia_acumulada_ultimos_14dias'] == max_t]['municipio_distrito'].unique()\n",
    "max_d_t = df_covid[df_covid['tasa_incidencia_acumulada_ultimos_14dias'] == max_t]['fecha_informe'].unique()\n",
    "\n",
    "print('Máximo TOTAL casos confirmados acumulado: ' + str(max_T) + ', Municipio: ' + str(max_m_T[0]) + ', Día: ' + str(max_d_T[0]))\n",
    "print('Máximo casos confirmados: ' + str(max_c) + ', Municipio: ' + str(max_m_c[0]) + ', Día: ' + str(max_d_c[0]))\n",
    "print('Máxima tasa de incidencia acumulada TOTAL: ' + str(max_tT) + ', Municipio: ' + str(max_m_tT[0]) + ', Periodo: ' + str(max_d_tT[0]) + '-' + str(max_d_tT[-1]))\n",
    "print('Máxima tasa de incidencia acumulada: ' + str(max_t) + ', Municipio: ' + str(max_m_t[0]) + ', Día: ' + str(max_d_t[0]))"
   ]
  },
  {
   "cell_type": "markdown",
   "metadata": {},
   "source": [
    "* Con estas líneas examinamos el archivo 'shp', de los municipios de la región de Madrid proporcionados por la Comunidad de Madrid.\n",
    "\n",
    "```\n",
    "import geopandas as gpd\n",
    "municipios = gpd.read_file('./data/Municipios/200001692.shp')\n",
    "```\n",
    "\n",
    "* Y con esta línea lo guardamos en formato 'geojson'.\n",
    "\n",
    "```\n",
    "municipios.to_file(\"./data/Municipios/Municipios_Madrid.geojson\", driver=\"GeoJSON\")\n",
    "```\n",
    "Esta operación solo se necesita hacer una vez, después se pueden guardar los datos en formato geojson y utilizar ese archivo."
   ]
  },
  {
   "cell_type": "code",
   "execution_count": null,
   "metadata": {},
   "outputs": [],
   "source": [
    "with open(\"./data/Municipios/Madrid_WGS84​.geojson\", encoding=\"Utf-8\") as file:\n",
    "    municipios = geojson.load(file)\n",
    "\n",
    "#Ponemos en una capa superior de json el GEOCODIGO y lo utilizaremos como id.\n",
    "for i in range(len(municipios['features'])):\n",
    "    municipios['features'][i]['id'] = int(municipios['features'][i]['properties']['cod'])"
   ]
  },
  {
   "cell_type": "code",
   "execution_count": null,
   "metadata": {},
   "outputs": [],
   "source": [
    "token = \"pk.eyJ1Ijoiam9zZXZlcmEiLCJhIjoiY2s4cmliZnNmMDcwODNvcDl6MGUycXViMiJ9.aiABlXMzdKC1usUhUXr1Wg\"\n",
    "\n",
    "figure = go.Figure(data=go.Choroplethmapbox(geojson=municipios, \n",
    "                                            locations=df_covid[df_covid['fecha_informe'] == ls_day[50]].codigo_geometria, \n",
    "                                            z=df_covid[df_covid['fecha_informe'] == ls_day[50]].tasa_incidencia_acumulada_total,\n",
    "                                            name='Tasa acumulada TOTAL en los últimos 14 días',\n",
    "                                            hovertemplate =\n",
    "                                            '<i>Municipio</i>: ' + \n",
    "                                            df_covid[df_covid['fecha_informe'] == ls_day[50]].municipio_distrito +\n",
    "                                            '<br><b>Tasa de incidencia acumulada total</b>: %{z}<br>',\n",
    "                                            colorscale=[[0, '#6BC275'], [0.25, '#4F8F56'], [0.5, '#FFD045'],[0.75, '#FA6D77'], [1, '#E61313']], \n",
    "                                            zmin=0, \n",
    "                                            zmax=max_tT,\n",
    "                                            colorbar=dict(thickness=20,\n",
    "                                                           ticklen=3, tickcolor='#7D6F63',\n",
    "                                                           tickfont=dict(color='#7D6F63', family='Helvetica')),\n",
    "                                            marker_line_width=0),\n",
    "                  layout=go.Layout(title=ls_day[50]))\n",
    "\n",
    "figure.update_xaxes(showgrid=False, zeroline=False, tickfont=dict(family='Helvetica', color='#7D6F63'))\n",
    "figure.update_yaxes(showgrid=False, zeroline=False, tickfont=dict(family='Helvetica', color='#7D6F63'))\n",
    "figure.update_layout(mapbox_style=\"mapbox://styles/josevera/cjpyb3ndg3xqb2sqmgrantpld\", \n",
    "                  mapbox_accesstoken=token,\n",
    "                  mapbox_zoom=7, \n",
    "                  mapbox_center = {\"lat\": 40.416775, \"lon\": -3.703790},\n",
    "                  title_font=dict(family='Helvetica', color='#7D6F63'),\n",
    "                  plot_bgcolor = '#131211',\n",
    "                  paper_bgcolor='#131211',\n",
    "                  margin={\"r\":0,\"t\":50,\"l\":0,\"b\":0},\n",
    "                  width=900,\n",
    "                  height=500)\n",
    "\n",
    "figure"
   ]
  },
  {
   "cell_type": "markdown",
   "metadata": {},
   "source": [
    ![Muestra_covid](https://github.com/chemavera/Covid-19/blob/master/Muestras/Muestra_covid.png)
   ]
  }
 ],
 "metadata": {
  "@webio": {
   "lastCommId": null,
   "lastKernelId": null
  },
  "kernelspec": {
   "display_name": "Python 3",
   "language": "python",
   "name": "python3"
  },
  "language_info": {
   "codemirror_mode": {
    "name": "ipython",
    "version": 3
   },
   "file_extension": ".py",
   "mimetype": "text/x-python",
   "name": "python",
   "nbconvert_exporter": "python",
   "pygments_lexer": "ipython3",
   "version": "3.7.4"
  }
 },
 "nbformat": 4,
 "nbformat_minor": 2
}
