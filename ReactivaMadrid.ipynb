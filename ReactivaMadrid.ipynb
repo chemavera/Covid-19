{
 "cells": [
  {
   "cell_type": "code",
   "execution_count": 1,
   "metadata": {},
   "outputs": [],
   "source": [
    "import geojson\n",
    "import pandas as pd\n",
    "\n",
    "import plotly.graph_objects as go"
   ]
  },
  {
   "cell_type": "code",
   "execution_count": 2,
   "metadata": {},
   "outputs": [
    {
     "data": {
      "text/html": [
       "<div>\n",
       "<style scoped>\n",
       "    .dataframe tbody tr th:only-of-type {\n",
       "        vertical-align: middle;\n",
       "    }\n",
       "\n",
       "    .dataframe tbody tr th {\n",
       "        vertical-align: top;\n",
       "    }\n",
       "\n",
       "    .dataframe thead th {\n",
       "        text-align: right;\n",
       "    }\n",
       "</style>\n",
       "<table border=\"1\" class=\"dataframe\">\n",
       "  <thead>\n",
       "    <tr style=\"text-align: right;\">\n",
       "      <th></th>\n",
       "      <th>municipio_distrito</th>\n",
       "      <th>fecha_informe</th>\n",
       "      <th>casos_confirmados_ultimos_14dias</th>\n",
       "      <th>tasa_incidencia_acumulada_ultimos_14dias</th>\n",
       "      <th>casos_confirmados_totales</th>\n",
       "      <th>tasa_incidencia_acumulada_total</th>\n",
       "      <th>codigo_geometria</th>\n",
       "    </tr>\n",
       "  </thead>\n",
       "  <tbody>\n",
       "    <tr>\n",
       "      <td>0</td>\n",
       "      <td>Madrid-Retiro</td>\n",
       "      <td>2020/07/01</td>\n",
       "      <td>28.0</td>\n",
       "      <td>23.47</td>\n",
       "      <td>1691.0</td>\n",
       "      <td>1417.23</td>\n",
       "      <td>79603</td>\n",
       "    </tr>\n",
       "    <tr>\n",
       "      <td>1</td>\n",
       "      <td>Madrid-Salamanca</td>\n",
       "      <td>2020/07/01</td>\n",
       "      <td>23.0</td>\n",
       "      <td>15.74</td>\n",
       "      <td>1781.0</td>\n",
       "      <td>1218.99</td>\n",
       "      <td>79604</td>\n",
       "    </tr>\n",
       "    <tr>\n",
       "      <td>2</td>\n",
       "      <td>Madrid-Centro</td>\n",
       "      <td>2020/07/01</td>\n",
       "      <td>18.0</td>\n",
       "      <td>13.35</td>\n",
       "      <td>1282.0</td>\n",
       "      <td>950.7</td>\n",
       "      <td>79601</td>\n",
       "    </tr>\n",
       "    <tr>\n",
       "      <td>3</td>\n",
       "      <td>Madrid-Arganzuela</td>\n",
       "      <td>2020/07/01</td>\n",
       "      <td>16.0</td>\n",
       "      <td>10.4</td>\n",
       "      <td>1769.0</td>\n",
       "      <td>1150.17</td>\n",
       "      <td>79602</td>\n",
       "    </tr>\n",
       "    <tr>\n",
       "      <td>4</td>\n",
       "      <td>Madrid-Chamartín</td>\n",
       "      <td>2020/07/01</td>\n",
       "      <td>12.0</td>\n",
       "      <td>8.23</td>\n",
       "      <td>1800.0</td>\n",
       "      <td>1234.15</td>\n",
       "      <td>79605</td>\n",
       "    </tr>\n",
       "    <tr>\n",
       "      <td>...</td>\n",
       "      <td>...</td>\n",
       "      <td>...</td>\n",
       "      <td>...</td>\n",
       "      <td>...</td>\n",
       "      <td>...</td>\n",
       "      <td>...</td>\n",
       "      <td>...</td>\n",
       "    </tr>\n",
       "    <tr>\n",
       "      <td>25268</td>\n",
       "      <td>Torrelaguna</td>\n",
       "      <td>2020/02/26</td>\n",
       "      <td>NaN</td>\n",
       "      <td>0</td>\n",
       "      <td>NaN</td>\n",
       "      <td>0</td>\n",
       "      <td>1512</td>\n",
       "    </tr>\n",
       "    <tr>\n",
       "      <td>25269</td>\n",
       "      <td>Rivas-Vaciamadrid</td>\n",
       "      <td>2020/02/26</td>\n",
       "      <td>NaN</td>\n",
       "      <td>0</td>\n",
       "      <td>NaN</td>\n",
       "      <td>0</td>\n",
       "      <td>1230</td>\n",
       "    </tr>\n",
       "    <tr>\n",
       "      <td>25270</td>\n",
       "      <td>El Atazar</td>\n",
       "      <td>2020/02/26</td>\n",
       "      <td>NaN</td>\n",
       "      <td>0</td>\n",
       "      <td>NaN</td>\n",
       "      <td>0</td>\n",
       "      <td>164</td>\n",
       "    </tr>\n",
       "    <tr>\n",
       "      <td>25271</td>\n",
       "      <td>Pedrezuela</td>\n",
       "      <td>2020/02/26</td>\n",
       "      <td>NaN</td>\n",
       "      <td>0</td>\n",
       "      <td>NaN</td>\n",
       "      <td>0</td>\n",
       "      <td>1087</td>\n",
       "    </tr>\n",
       "    <tr>\n",
       "      <td>25272</td>\n",
       "      <td>Valdetorres de Jarama</td>\n",
       "      <td>2020/02/26</td>\n",
       "      <td>NaN</td>\n",
       "      <td>0</td>\n",
       "      <td>NaN</td>\n",
       "      <td>0</td>\n",
       "      <td>1646</td>\n",
       "    </tr>\n",
       "  </tbody>\n",
       "</table>\n",
       "<p>25074 rows × 7 columns</p>\n",
       "</div>"
      ],
      "text/plain": [
       "          municipio_distrito fecha_informe  casos_confirmados_ultimos_14dias  \\\n",
       "0              Madrid-Retiro    2020/07/01                              28.0   \n",
       "1           Madrid-Salamanca    2020/07/01                              23.0   \n",
       "2              Madrid-Centro    2020/07/01                              18.0   \n",
       "3          Madrid-Arganzuela    2020/07/01                              16.0   \n",
       "4           Madrid-Chamartín    2020/07/01                              12.0   \n",
       "...                      ...           ...                               ...   \n",
       "25268            Torrelaguna    2020/02/26                               NaN   \n",
       "25269      Rivas-Vaciamadrid    2020/02/26                               NaN   \n",
       "25270              El Atazar    2020/02/26                               NaN   \n",
       "25271             Pedrezuela    2020/02/26                               NaN   \n",
       "25272  Valdetorres de Jarama    2020/02/26                               NaN   \n",
       "\n",
       "      tasa_incidencia_acumulada_ultimos_14dias  casos_confirmados_totales  \\\n",
       "0                                        23.47                     1691.0   \n",
       "1                                        15.74                     1781.0   \n",
       "2                                        13.35                     1282.0   \n",
       "3                                         10.4                     1769.0   \n",
       "4                                         8.23                     1800.0   \n",
       "...                                        ...                        ...   \n",
       "25268                                        0                        NaN   \n",
       "25269                                        0                        NaN   \n",
       "25270                                        0                        NaN   \n",
       "25271                                        0                        NaN   \n",
       "25272                                        0                        NaN   \n",
       "\n",
       "      tasa_incidencia_acumulada_total  codigo_geometria  \n",
       "0                             1417.23             79603  \n",
       "1                             1218.99             79604  \n",
       "2                               950.7             79601  \n",
       "3                             1150.17             79602  \n",
       "4                             1234.15             79605  \n",
       "...                               ...               ...  \n",
       "25268                               0              1512  \n",
       "25269                               0              1230  \n",
       "25270                               0               164  \n",
       "25271                               0              1087  \n",
       "25272                               0              1646  \n",
       "\n",
       "[25074 rows x 7 columns]"
      ]
     },
     "execution_count": 2,
     "metadata": {},
     "output_type": "execute_result"
    }
   ],
   "source": [
    "url = 'https://datos.comunidad.madrid/catalogo/dataset/7da43feb-8d4d-47e0-abd5-3d022d29d09e/resource/b2a3a3f9-1f82-42c2-89c7-cbd3ef801412/download/covid19_tia_muni_y_distritos.csv'\n",
    "\n",
    "merged_covid = pd.read_csv(url, encoding=\"ANSI\", sep=';')\n",
    "\n",
    "#Es necesario el bucle y la función \".loc()\" ya que no vamos a reemplazar toda la fecha, \n",
    "#solo a eliminar la hora de registro.\n",
    "for x in range(len(merged_covid['tasa_incidencia_acumulada_total'])):\n",
    "    merged_covid.loc[x, 'tasa_incidencia_acumulada_ultimos_14dias'] = float(merged_covid.loc[x, 'tasa_incidencia_acumulada_ultimos_14dias'].replace(\",\", \".\"))\n",
    "    merged_covid.loc[x, 'tasa_incidencia_acumulada_total'] = float(merged_covid.loc[x, 'tasa_incidencia_acumulada_total'].replace(\",\", \".\"))\n",
    "    merged_covid.loc[x, 'fecha_informe'] = merged_covid.loc[x, 'fecha_informe'].replace(\" 07:00:00\", \"\")\n",
    "    merged_covid.loc[x, 'fecha_informe'] = merged_covid.loc[x, 'fecha_informe'].replace(\" 09:00:00\", \"\")\n",
    "\n",
    "merged_covid = merged_covid.drop(merged_covid[merged_covid['fecha_informe']=='2020/05/02'].index)\n",
    "ls_day = merged_covid['fecha_informe'].unique()\n",
    "ls_day.sort()\n",
    "ls_municipios = merged_covid['municipio_distrito'].unique()\n",
    "\n",
    "ls_cc = []\n",
    "ls_ta = []\n",
    "ls_cct = []\n",
    "ls_tat = []\n",
    "for i in range(len(ls_day)):\n",
    "    ls_CC = sum(merged_covid[merged_covid['fecha_informe'] == ls_day[i]]['casos_confirmados_ultimos_14dias'].fillna(0))\n",
    "    ls_cc.append(ls_CC)\n",
    "    ls_TA = sum(merged_covid[merged_covid['fecha_informe'] == ls_day[i]]['tasa_incidencia_acumulada_ultimos_14dias'].fillna(0))\n",
    "    ls_ta.append(ls_TA)\n",
    "    ls_CCT = sum(merged_covid[merged_covid['fecha_informe'] == ls_day[i]]['casos_confirmados_totales'].fillna(0))\n",
    "    ls_cct.append(ls_CCT)\n",
    "    ls_TAT = sum(merged_covid[merged_covid['fecha_informe'] == ls_day[i]]['tasa_incidencia_acumulada_total'].fillna(0))\n",
    "    ls_tat.append(ls_TAT)\n",
    "\n",
    "max_T = max(merged_covid['casos_confirmados_totales'].fillna(0))\n",
    "max_c = max(merged_covid['casos_confirmados_ultimos_14dias'].fillna(0))\n",
    "max_tT = max(merged_covid['tasa_incidencia_acumulada_total'].fillna(0))\n",
    "max_t = max(merged_covid['tasa_incidencia_acumulada_ultimos_14dias'].fillna(0))    \n",
    "\n",
    "merged_covid"
   ]
  },
  {
   "cell_type": "code",
   "execution_count": null,
   "metadata": {},
   "outputs": [],
   "source": []
  },
  {
   "cell_type": "code",
   "execution_count": 1,
   "metadata": {},
   "outputs": [],
   "source": [
    "import geojson\n",
    "import pandas as pd\n",
    "\n",
    "import plotly.graph_objects as go"
   ]
  },
  {
   "cell_type": "code",
   "execution_count": 2,
   "metadata": {},
   "outputs": [
    {
     "data": {
      "text/html": [
       "<div>\n",
       "<style scoped>\n",
       "    .dataframe tbody tr th:only-of-type {\n",
       "        vertical-align: middle;\n",
       "    }\n",
       "\n",
       "    .dataframe tbody tr th {\n",
       "        vertical-align: top;\n",
       "    }\n",
       "\n",
       "    .dataframe thead th {\n",
       "        text-align: right;\n",
       "    }\n",
       "</style>\n",
       "<table border=\"1\" class=\"dataframe\">\n",
       "  <thead>\n",
       "    <tr style=\"text-align: right;\">\n",
       "      <th></th>\n",
       "      <th>Unnamed: 0</th>\n",
       "      <th>municipio_distrito</th>\n",
       "      <th>fecha_informe</th>\n",
       "      <th>casos_confirmados_ultimos_14dias</th>\n",
       "      <th>tasa_incidencia_acumulada_ultimos_14dias</th>\n",
       "      <th>casos_confirmados_totales</th>\n",
       "      <th>tasa_incidencia_acumulada_total</th>\n",
       "      <th>codigo_geometria</th>\n",
       "    </tr>\n",
       "  </thead>\n",
       "  <tbody>\n",
       "    <tr>\n",
       "      <td>0</td>\n",
       "      <td>0</td>\n",
       "      <td>Madrid-Retiro</td>\n",
       "      <td>2020/07/01</td>\n",
       "      <td>28.0</td>\n",
       "      <td>23.47</td>\n",
       "      <td>1691.0</td>\n",
       "      <td>1417.23</td>\n",
       "      <td>79603</td>\n",
       "    </tr>\n",
       "    <tr>\n",
       "      <td>1</td>\n",
       "      <td>1</td>\n",
       "      <td>Madrid-Salamanca</td>\n",
       "      <td>2020/07/01</td>\n",
       "      <td>23.0</td>\n",
       "      <td>15.74</td>\n",
       "      <td>1781.0</td>\n",
       "      <td>1218.99</td>\n",
       "      <td>79604</td>\n",
       "    </tr>\n",
       "    <tr>\n",
       "      <td>2</td>\n",
       "      <td>2</td>\n",
       "      <td>Madrid-Centro</td>\n",
       "      <td>2020/07/01</td>\n",
       "      <td>18.0</td>\n",
       "      <td>13.35</td>\n",
       "      <td>1282.0</td>\n",
       "      <td>950.70</td>\n",
       "      <td>79601</td>\n",
       "    </tr>\n",
       "    <tr>\n",
       "      <td>3</td>\n",
       "      <td>3</td>\n",
       "      <td>Madrid-Arganzuela</td>\n",
       "      <td>2020/07/01</td>\n",
       "      <td>16.0</td>\n",
       "      <td>10.40</td>\n",
       "      <td>1769.0</td>\n",
       "      <td>1150.17</td>\n",
       "      <td>79602</td>\n",
       "    </tr>\n",
       "    <tr>\n",
       "      <td>4</td>\n",
       "      <td>4</td>\n",
       "      <td>Madrid-Chamartín</td>\n",
       "      <td>2020/07/01</td>\n",
       "      <td>12.0</td>\n",
       "      <td>8.23</td>\n",
       "      <td>1800.0</td>\n",
       "      <td>1234.15</td>\n",
       "      <td>79605</td>\n",
       "    </tr>\n",
       "    <tr>\n",
       "      <td>...</td>\n",
       "      <td>...</td>\n",
       "      <td>...</td>\n",
       "      <td>...</td>\n",
       "      <td>...</td>\n",
       "      <td>...</td>\n",
       "      <td>...</td>\n",
       "      <td>...</td>\n",
       "      <td>...</td>\n",
       "    </tr>\n",
       "    <tr>\n",
       "      <td>25069</td>\n",
       "      <td>25268</td>\n",
       "      <td>Torrelaguna</td>\n",
       "      <td>2020/02/26</td>\n",
       "      <td>NaN</td>\n",
       "      <td>0.00</td>\n",
       "      <td>NaN</td>\n",
       "      <td>0.00</td>\n",
       "      <td>1512</td>\n",
       "    </tr>\n",
       "    <tr>\n",
       "      <td>25070</td>\n",
       "      <td>25269</td>\n",
       "      <td>Rivas-Vaciamadrid</td>\n",
       "      <td>2020/02/26</td>\n",
       "      <td>NaN</td>\n",
       "      <td>0.00</td>\n",
       "      <td>NaN</td>\n",
       "      <td>0.00</td>\n",
       "      <td>1230</td>\n",
       "    </tr>\n",
       "    <tr>\n",
       "      <td>25071</td>\n",
       "      <td>25270</td>\n",
       "      <td>El Atazar</td>\n",
       "      <td>2020/02/26</td>\n",
       "      <td>NaN</td>\n",
       "      <td>0.00</td>\n",
       "      <td>NaN</td>\n",
       "      <td>0.00</td>\n",
       "      <td>164</td>\n",
       "    </tr>\n",
       "    <tr>\n",
       "      <td>25072</td>\n",
       "      <td>25271</td>\n",
       "      <td>Pedrezuela</td>\n",
       "      <td>2020/02/26</td>\n",
       "      <td>NaN</td>\n",
       "      <td>0.00</td>\n",
       "      <td>NaN</td>\n",
       "      <td>0.00</td>\n",
       "      <td>1087</td>\n",
       "    </tr>\n",
       "    <tr>\n",
       "      <td>25073</td>\n",
       "      <td>25272</td>\n",
       "      <td>Valdetorres de Jarama</td>\n",
       "      <td>2020/02/26</td>\n",
       "      <td>NaN</td>\n",
       "      <td>0.00</td>\n",
       "      <td>NaN</td>\n",
       "      <td>0.00</td>\n",
       "      <td>1646</td>\n",
       "    </tr>\n",
       "  </tbody>\n",
       "</table>\n",
       "<p>25074 rows × 8 columns</p>\n",
       "</div>"
      ],
      "text/plain": [
       "       Unnamed: 0     municipio_distrito fecha_informe  \\\n",
       "0               0          Madrid-Retiro    2020/07/01   \n",
       "1               1       Madrid-Salamanca    2020/07/01   \n",
       "2               2          Madrid-Centro    2020/07/01   \n",
       "3               3      Madrid-Arganzuela    2020/07/01   \n",
       "4               4       Madrid-Chamartín    2020/07/01   \n",
       "...           ...                    ...           ...   \n",
       "25069       25268            Torrelaguna    2020/02/26   \n",
       "25070       25269      Rivas-Vaciamadrid    2020/02/26   \n",
       "25071       25270              El Atazar    2020/02/26   \n",
       "25072       25271             Pedrezuela    2020/02/26   \n",
       "25073       25272  Valdetorres de Jarama    2020/02/26   \n",
       "\n",
       "       casos_confirmados_ultimos_14dias  \\\n",
       "0                                  28.0   \n",
       "1                                  23.0   \n",
       "2                                  18.0   \n",
       "3                                  16.0   \n",
       "4                                  12.0   \n",
       "...                                 ...   \n",
       "25069                               NaN   \n",
       "25070                               NaN   \n",
       "25071                               NaN   \n",
       "25072                               NaN   \n",
       "25073                               NaN   \n",
       "\n",
       "       tasa_incidencia_acumulada_ultimos_14dias  casos_confirmados_totales  \\\n",
       "0                                         23.47                     1691.0   \n",
       "1                                         15.74                     1781.0   \n",
       "2                                         13.35                     1282.0   \n",
       "3                                         10.40                     1769.0   \n",
       "4                                          8.23                     1800.0   \n",
       "...                                         ...                        ...   \n",
       "25069                                      0.00                        NaN   \n",
       "25070                                      0.00                        NaN   \n",
       "25071                                      0.00                        NaN   \n",
       "25072                                      0.00                        NaN   \n",
       "25073                                      0.00                        NaN   \n",
       "\n",
       "       tasa_incidencia_acumulada_total  codigo_geometria  \n",
       "0                              1417.23             79603  \n",
       "1                              1218.99             79604  \n",
       "2                               950.70             79601  \n",
       "3                              1150.17             79602  \n",
       "4                              1234.15             79605  \n",
       "...                                ...               ...  \n",
       "25069                             0.00              1512  \n",
       "25070                             0.00              1230  \n",
       "25071                             0.00               164  \n",
       "25072                             0.00              1087  \n",
       "25073                             0.00              1646  \n",
       "\n",
       "[25074 rows x 8 columns]"
      ]
     },
     "execution_count": 2,
     "metadata": {},
     "output_type": "execute_result"
    }
   ],
   "source": [
    "merged_covid = pd.read_csv('./data/data_covid.csv')\n",
    "\n",
    "ls_day = merged_covid['fecha_informe'].unique()\n",
    "ls_day.sort()\n",
    "ls_municipios = merged_covid['municipio_distrito'].unique()\n",
    "\n",
    "ls_cc = []\n",
    "ls_ta = []\n",
    "ls_cct = []\n",
    "ls_tat = []\n",
    "for i in range(len(ls_day)):\n",
    "    ls_CC = sum(merged_covid[merged_covid['fecha_informe'] == ls_day[i]]['casos_confirmados_ultimos_14dias'].fillna(0))\n",
    "    ls_cc.append(ls_CC)\n",
    "    ls_TA = sum(merged_covid[merged_covid['fecha_informe'] == ls_day[i]]['tasa_incidencia_acumulada_ultimos_14dias'].fillna(0))\n",
    "    ls_ta.append(ls_TA)\n",
    "    ls_CCT = sum(merged_covid[merged_covid['fecha_informe'] == ls_day[i]]['casos_confirmados_totales'].fillna(0))\n",
    "    ls_cct.append(ls_CCT)\n",
    "    ls_TAT = sum(merged_covid[merged_covid['fecha_informe'] == ls_day[i]]['tasa_incidencia_acumulada_total'].fillna(0))\n",
    "    ls_tat.append(ls_TAT)\n",
    "\n",
    "max_T = max(merged_covid['casos_confirmados_totales'].fillna(0))\n",
    "max_c = max(merged_covid['casos_confirmados_ultimos_14dias'].fillna(0))\n",
    "max_tT = max(merged_covid['tasa_incidencia_acumulada_total'].fillna(0))\n",
    "max_t = max(merged_covid['tasa_incidencia_acumulada_ultimos_14dias'].fillna(0)) \n",
    "\n",
    "merged_covid"
   ]
  },
  {
   "cell_type": "code",
   "execution_count": 3,
   "metadata": {},
   "outputs": [],
   "source": [
    "max_m_T = merged_covid[merged_covid['casos_confirmados_totales'] == max_T]['municipio_distrito'].unique()\n",
    "max_d_T = merged_covid[merged_covid['casos_confirmados_totales'] == max_T]['fecha_informe'].unique()\n",
    "max_m_c = merged_covid[merged_covid['casos_confirmados_ultimos_14dias'] == max_c]['municipio_distrito'].unique()\n",
    "max_d_c = merged_covid[merged_covid['casos_confirmados_ultimos_14dias'] == max_c]['fecha_informe'].unique()\n",
    "max_m_tT = merged_covid[merged_covid['tasa_incidencia_acumulada_total'] == max_tT]['municipio_distrito'].unique()\n",
    "max_d_tT = merged_covid[merged_covid['tasa_incidencia_acumulada_total'] == max_tT]['fecha_informe'].unique()\n",
    "max_m_t = merged_covid[merged_covid['tasa_incidencia_acumulada_ultimos_14dias'] == max_t]['municipio_distrito'].unique()\n",
    "max_d_t = merged_covid[merged_covid['tasa_incidencia_acumulada_ultimos_14dias'] == max_t]['fecha_informe'].unique()"
   ]
  },
  {
   "cell_type": "code",
   "execution_count": 4,
   "metadata": {},
   "outputs": [
    {
     "name": "stdout",
     "output_type": "stream",
     "text": [
      "Máximo TOTAL casos confirmados acumulado: 3403.0, Municipio: ['Leganés'], Día/s: ['2020/07/01']\n",
      "Máximo casos confirmados: 1403.0, Municipio: ['Leganés'], Día/s: ['2020/04/07']\n",
      "Máxima tasa de incidencia acumulada TOTAL: 3508.77, Municipio: ['La Hiruela'], Día/s: ['2020/07/01' '2020/06/30' '2020/06/29' '2020/06/28' '2020/06/27'\n",
      " '2020/06/26' '2020/06/25' '2020/06/24' '2020/06/23' '2020/06/22'\n",
      " '2020/06/21' '2020/06/20' '2020/06/19' '2020/06/18' '2020/06/17'\n",
      " '2020/06/16' '2020/06/15' '2020/06/14' '2020/06/13' '2020/06/12'\n",
      " '2020/06/11' '2020/06/10' '2020/06/09' '2020/06/08' '2020/06/07'\n",
      " '2020/06/06' '2020/06/05' '2020/06/04' '2020/06/03' '2020/06/02'\n",
      " '2020/06/01' '2020/05/31' '2020/05/30' '2020/05/29' '2020/05/28']\n",
      "Máxima tasa de incidencia acumulada: 2492.75, Municipio: ['Colmenar del Arroyo'], Día/s: ['2020/05/08' '2020/05/07']\n"
     ]
    }
   ],
   "source": [
    "print('Máximo TOTAL casos confirmados acumulado: ' + str(max_T[0]) + ', Municipio: ' + str(max_m_T[0]) + ', Día: ' + str(max_d_T[0]))\n",
    "print('Máximo casos confirmados: ' + str(max_c[0]) + ', Municipio: ' + str(max_m_c[0]) + ', Día: ' + str(max_d_c[0]))\n",
    "print('Máxima tasa de incidencia acumulada TOTAL: ' + str(max_tT[0]) + ', Municipio: ' + str(max_m_tT[0]) + ', Periodo: ' + str(max_d_tT[0]) + '-' + str(max_d_tT[-1]))\n",
    "print('Máxima tasa de incidencia acumulada: ' + str(max_t[0]) + ', Municipio: ' + str(max_m_t[0]) + ', Día: ' + str(max_d_t[0]))"
   ]
  },
  {
   "cell_type": "markdown",
   "metadata": {},
   "source": [
    "* Con estas líneas examinamos el archivo 'shp', de los municipios de la región de Madrid proporcionados por la Comunidad de Madrid.\n",
    "\n",
    "```\n",
    "import geopandas as gpd\n",
    "municipios = gpd.read_file('./data/Municipios/200001692.shp')\n",
    "```\n",
    "\n",
    "* Y con esta línea lo guardamos en formato 'geojson'.\n",
    "\n",
    "```\n",
    "municipios.to_file(\"./data/Municipios/Municipios_Madrid.geojson\", driver=\"GeoJSON\")\n",
    "```"
   ]
  },
  {
   "cell_type": "code",
   "execution_count": 5,
   "metadata": {},
   "outputs": [],
   "source": [
    "with open(\"./data/Municipios/Madrid_WGS84​.geojson\", encoding=\"Utf-8\") as file:\n",
    "    municipios2 = geojson.load(file)\n",
    "\n",
    "#Ponemos en una capa superior de json el GEOCODIGO y lo utilizaremos como id.\n",
    "for i in range(len(municipios2['features'])):\n",
    "    municipios2['features'][i]['id'] = int(municipios2['features'][i]['properties']['cod'])"
   ]
  },
  {
   "cell_type": "code",
   "execution_count": null,
   "metadata": {
    "scrolled": false
   },
   "outputs": [],
   "source": [
    "token = \"pk.eyJ1Ijoiam9zZXZlcmEiLCJhIjoiY2s4cmliZnNmMDcwODNvcDl6MGUycXViMiJ9.aiABlXMzdKC1usUhUXr1Wg\"\n",
    "\n",
    "import plotly.graph_objects as go\n",
    "\n",
    "for i in range(len(ls_day)):\n",
    "    figure = go.Figure(data=go.Choroplethmapbox(geojson=municipios2, \n",
    "                                                locations=merged_covid[merged_covid['fecha_informe'] == ls_day[i]].codigo_geometria, \n",
    "                                                z=merged_covid[merged_covid['fecha_informe'] == ls_day[i]].tasa_incidencia_acumulada_total,\n",
    "                                                name='Tasa acumulada TOTAL en los últimos 14 días',\n",
    "                                                hovertemplate =\n",
    "                                                '<i>Municipio</i>: ' + \n",
    "                                                merged_covid[merged_covid['fecha_informe'] == ls_day[i]].municipio_distrito +\n",
    "                                                '<br><b>Tasa de incidencia acumulada total</b>: %{z}<br>',\n",
    "                                                colorscale=[[0, '#6BC275'], [0.25, '#4F8F56'], [0.5, '#FFD045'],[0.75, '#FA6D77'], [1, '#E61313']], \n",
    "                                                zmin=0, \n",
    "                                                zmax=max_tT,\n",
    "                                                colorbar=dict(thickness=20,\n",
    "                                                               ticklen=3, tickcolor='#7D6F63',\n",
    "                                                               tickfont=dict(color='#7D6F63', family='Helvetica')),\n",
    "                                                marker_line_width=0),\n",
    "                      layout=go.Layout(title=ls_day[i]))\n",
    "\n",
    "    figure.update_xaxes(showgrid=False, zeroline=False, tickfont=dict(family='Helvetica', color='#7D6F63'))\n",
    "    figure.update_yaxes(showgrid=False, zeroline=False, tickfont=dict(family='Helvetica', color='#7D6F63'))\n",
    "    figure.update_layout(mapbox_style=\"mapbox://styles/josevera/cjpyb3ndg3xqb2sqmgrantpld\", \n",
    "                      mapbox_accesstoken=token,\n",
    "                      mapbox_zoom=7, \n",
    "                      mapbox_center = {\"lat\": 40.416775, \"lon\": -3.703790},\n",
    "                      title_font=dict(family='Helvetica', color='#7D6F63'),\n",
    "                      #pad={\"t\": 10},\n",
    "                      plot_bgcolor = '#131211',\n",
    "                      paper_bgcolor='#131211',\n",
    "                      margin={\"r\":0,\"t\":50,\"l\":0,\"b\":0},\n",
    "                      width=900,\n",
    "                      height=500)\n",
    "    \n",
    "    figure.write_image(\"images/fig{:03d}.png\".format(i))"
   ]
  },
  {
   "cell_type": "code",
   "execution_count": 8,
   "metadata": {
    "scrolled": false
   },
   "outputs": [
    {
     "ename": "NameError",
     "evalue": "name 'make_subplots' is not defined",
     "output_type": "error",
     "traceback": [
      "\u001b[1;31m---------------------------------------------------------------------------\u001b[0m",
      "\u001b[1;31mNameError\u001b[0m                                 Traceback (most recent call last)",
      "\u001b[1;32m<ipython-input-8-f637c2cdcca4>\u001b[0m in \u001b[0;36m<module>\u001b[1;34m\u001b[0m\n\u001b[0;32m      3\u001b[0m \u001b[1;31m#Creando dos subgráficas.\u001b[0m\u001b[1;33m\u001b[0m\u001b[1;33m\u001b[0m\u001b[1;33m\u001b[0m\u001b[0m\n\u001b[0;32m      4\u001b[0m \u001b[1;33m\u001b[0m\u001b[0m\n\u001b[1;32m----> 5\u001b[1;33m figure = make_subplots(\n\u001b[0m\u001b[0;32m      6\u001b[0m     \u001b[0mrows\u001b[0m\u001b[1;33m=\u001b[0m\u001b[1;36m1\u001b[0m\u001b[1;33m,\u001b[0m \u001b[0mcols\u001b[0m\u001b[1;33m=\u001b[0m\u001b[1;36m2\u001b[0m\u001b[1;33m,\u001b[0m\u001b[1;33m\u001b[0m\u001b[1;33m\u001b[0m\u001b[0m\n\u001b[0;32m      7\u001b[0m     specs=[[{\"type\": \"Choroplethmapbox\"}, {\"type\": \"bar\"}]])\n",
      "\u001b[1;31mNameError\u001b[0m: name 'make_subplots' is not defined"
     ]
    }
   ],
   "source": [
    "token = \"pk.eyJ1Ijoiam9zZXZlcmEiLCJhIjoiY2s4cmliZnNmMDcwODNvcDl6MGUycXViMiJ9.aiABlXMzdKC1usUhUXr1Wg\"\n",
    "\n",
    "#Creando dos subgráficas.\n",
    "\n",
    "figure = make_subplots(\n",
    "    rows=1, cols=2,\n",
    "    specs=[[{\"type\": \"Choroplethmapbox\"}, {\"type\": \"bar\"}]])\n",
    "\n",
    "\n",
    "figure.append_trace(go.Choroplethmapbox(geojson=municipios2, \n",
    "                                                locations=merged_covid[merged_covid['fecha_informe'] == ls_day[0]].codigo_geometria, \n",
    "                                                z=merged_covid[merged_covid['fecha_informe'] == ls_day[0]].tasa_incidencia_acumulada_total,\n",
    "                                                name='Tasa acumulada TOTAL en los últimos 14 días',\n",
    "                                                hovertemplate =\n",
    "                                                '<i>Municipio</i>: ' + \n",
    "                                                merged_covid[merged_covid['fecha_informe'] == ls_day[0]].municipio_distrito +\n",
    "                                                '<br><b>Tasa de incidencia acumulada total</b>: %{z}<br>',\n",
    "                                                colorscale=[[0, '#6BC275'], [0.25, '#4F8F56'], [0.5, '#FFD045'],[0.75, '#FA6D77'], [1, '#E61313']], \n",
    "                                                zmin=0, \n",
    "                                                zmax=max_tT,\n",
    "                                                colorbar=dict(thickness=20,\n",
    "                                                               ticklen=3, tickcolor='#7D6F63',\n",
    "                                                               tickfont=dict(color='#7D6F63', family='Helvetica')),\n",
    "                                                marker_line_width=0), 1, 1)\n",
    "fig.append_trace(go.Bar(\n",
    "    x=merged_covid[merged_covid['fecha_informe'] == ls_day[0]].tasa_incidencia_acumulada_total,\n",
    "    y=ls_municipios,\n",
    "    marker=dict(\n",
    "        color='rgba(50, 171, 96, 0.6)',\n",
    "        line=dict(\n",
    "            color='rgba(50, 171, 96, 1.0)',\n",
    "            width=1),\n",
    "    ),\n",
    "    name='Tasa de incidencia acumulada total',\n",
    "    orientation='h',\n",
    "), 1, 2)\n",
    "\n",
    "figure.update_xaxes(showgrid=False, zeroline=False, tickfont=dict(family='Helvetica', color='#7D6F63'))\n",
    "figure.update_yaxes(showgrid=False, zeroline=False, tickfont=dict(family='Helvetica', color='#7D6F63'))\n",
    "figure.update_layout(mapbox_style=\"mapbox://styles/josevera/cjpyb3ndg3xqb2sqmgrantpld\", \n",
    "                  mapbox_accesstoken=token,\n",
    "                  mapbox_zoom=7, \n",
    "                  mapbox_center = {\"lat\": 40.416775, \"lon\": -3.703790},\n",
    "                  title_font=dict(family='Helvetica', color='#7D6F63'),\n",
    "                  #pad={\"t\": 10},\n",
    "                  plot_bgcolor = '#131211',\n",
    "                  paper_bgcolor='#131211',\n",
    "                  margin={\"r\":0,\"t\":50,\"l\":0,\"b\":0},\n",
    "                  width=900,\n",
    "                  height=500)"
   ]
  },
  {
   "cell_type": "code",
   "execution_count": 7,
   "metadata": {},
   "outputs": [],
   "source": [
    "from PIL import Image\n",
    "import glob\n",
    " \n",
    "# Create the frames\n",
    "frames = []\n",
    "imgs = glob.glob(\"images/fig*.png\")\n",
    "for i in imgs:\n",
    "    new_frame = Image.open(i)\n",
    "    frames.append(new_frame)\n",
    " # Save into a GIF file that loops forever\n",
    "frames[0].save('evolucion_covid.gif', format='GIF',\n",
    "               append_images=frames[1:],\n",
    "               save_all=True,\n",
    "               duration=750, loop=0)"
   ]
  },
  {
   "cell_type": "code",
   "execution_count": 11,
   "metadata": {},
   "outputs": [
    {
     "data": {
      "text/plain": [
       "6135    1163.81\n",
       "6136     934.95\n",
       "6137    1105.48\n",
       "6138     624.62\n",
       "6139     605.43\n",
       "         ...   \n",
       "7405    2000.00\n",
       "7406     773.83\n",
       "7407     255.43\n",
       "7408     265.64\n",
       "7409     400.27\n",
       "Name: tasa_incidencia_acumulada_total, Length: 199, dtype: float64"
      ]
     },
     "execution_count": 11,
     "metadata": {},
     "output_type": "execute_result"
    }
   ],
   "source": [
    "merged_covid[merged_covid['fecha_informe'] == ls_day[90]].tasa_incidencia_acumulada_total"
   ]
  },
  {
   "cell_type": "code",
   "execution_count": 26,
   "metadata": {},
   "outputs": [
    {
     "data": {
      "application/vnd.plotly.v1+json": {
       "config": {
        "plotlyServerURL": "https://plot.ly"
       },
       "data": [
        {
         "marker": {
          "color": [
           1163.81,
           934.95,
           1105.48,
           624.62,
           605.43,
           848.52,
           525.7,
           1149.43,
           174.37,
           0,
           340.72,
           391.44,
           671.14,
           518.06,
           840.34,
           786.78,
           572.52,
           632.32,
           1109.06,
           229.89,
           360.58,
           1257.99,
           1138.91,
           869.87,
           1053.3,
           1153.25,
           1348.54,
           1131.45,
           1225.91,
           1212.54,
           1195.12,
           1089.3,
           1011.87,
           1326.34,
           935.87,
           880.58,
           1438.09,
           1034.75,
           937.9,
           967.46,
           483.09,
           1111.77,
           604.77,
           732.11,
           617,
           478.01,
           485.77,
           469.67,
           1322.75,
           1426.46,
           294.55,
           765.01,
           1679.48,
           790.07,
           1011.5,
           1275.54,
           0,
           1550.39,
           138.7,
           639.3,
           283.29,
           630.35,
           0,
           640.2,
           2741.6,
           862.07,
           359.57,
           560.03,
           828.08,
           288.18,
           571.15,
           0,
           975.61,
           772.2,
           960.93,
           693.37,
           835.75,
           833.41,
           949.37,
           2043.69,
           696.52,
           1581.54,
           300.69,
           1020.66,
           445.67,
           794.82,
           0,
           506,
           1038.32,
           1637.51,
           975.61,
           467.8,
           572.51,
           807.77,
           557.39,
           591.74,
           925.47,
           1182.43,
           1472.03,
           550.75,
           1207.56,
           738.72,
           1720.43,
           537.63,
           2758.62,
           265.96,
           450.89,
           579.15,
           568.99,
           1117.39,
           572.52,
           613.71,
           1052.63,
           237.53,
           198.91,
           1390.97,
           1111.24,
           1458.87,
           687.19,
           502.05,
           319.9,
           1283.02,
           603.75,
           804.63,
           628.07,
           525.23,
           329.06,
           486.13,
           450.86,
           714.29,
           841.51,
           971.69,
           0,
           2050.66,
           648.14,
           459.9,
           401.76,
           497.74,
           796.18,
           106.72,
           0,
           291.16,
           638.51,
           284.93,
           715.02,
           172.12,
           843.29,
           514.79,
           0,
           0,
           449.94,
           1481,
           0,
           769.23,
           1250,
           0,
           336.16,
           566.04,
           218.82,
           1071.16,
           685.45,
           1932.52,
           230.95,
           959.58,
           1085.77,
           890.57,
           504.2,
           648.89,
           0,
           458.25,
           478.47,
           0,
           582.88,
           583.45,
           586.04,
           832.57,
           475.06,
           697.2,
           1223.11,
           845.29,
           1077.8,
           670.13,
           853.85,
           2956.52,
           767.26,
           0,
           1145.04,
           425.15,
           300.48,
           989.84,
           2325.58,
           987.99,
           1366.56,
           1754.39,
           2000,
           773.83,
           255.43,
           265.64,
           400.27
          ],
          "colorscale": [
           [
            0,
            "#6BC275"
           ],
           [
            0.25,
            "#4F8F56"
           ],
           [
            0.5,
            "#FFD045"
           ],
           [
            0.75,
            "#FA6D77"
           ],
           [
            1,
            "#E61313"
           ]
          ]
         },
         "name": "Tasa de incidencia acumulada total",
         "orientation": "h",
         "type": "bar",
         "x": [
          1163.81,
          934.95,
          1105.48,
          624.62,
          605.43,
          848.52,
          525.7,
          1149.43,
          174.37,
          0,
          340.72,
          391.44,
          671.14,
          518.06,
          840.34,
          786.78,
          572.52,
          632.32,
          1109.06,
          229.89,
          360.58,
          1257.99,
          1138.91,
          869.87,
          1053.3,
          1153.25,
          1348.54,
          1131.45,
          1225.91,
          1212.54,
          1195.12,
          1089.3,
          1011.87,
          1326.34,
          935.87,
          880.58,
          1438.09,
          1034.75,
          937.9,
          967.46,
          483.09,
          1111.77,
          604.77,
          732.11,
          617,
          478.01,
          485.77,
          469.67,
          1322.75,
          1426.46,
          294.55,
          765.01,
          1679.48,
          790.07,
          1011.5,
          1275.54,
          0,
          1550.39,
          138.7,
          639.3,
          283.29,
          630.35,
          0,
          640.2,
          2741.6,
          862.07,
          359.57,
          560.03,
          828.08,
          288.18,
          571.15,
          0,
          975.61,
          772.2,
          960.93,
          693.37,
          835.75,
          833.41,
          949.37,
          2043.69,
          696.52,
          1581.54,
          300.69,
          1020.66,
          445.67,
          794.82,
          0,
          506,
          1038.32,
          1637.51,
          975.61,
          467.8,
          572.51,
          807.77,
          557.39,
          591.74,
          925.47,
          1182.43,
          1472.03,
          550.75,
          1207.56,
          738.72,
          1720.43,
          537.63,
          2758.62,
          265.96,
          450.89,
          579.15,
          568.99,
          1117.39,
          572.52,
          613.71,
          1052.63,
          237.53,
          198.91,
          1390.97,
          1111.24,
          1458.87,
          687.19,
          502.05,
          319.9,
          1283.02,
          603.75,
          804.63,
          628.07,
          525.23,
          329.06,
          486.13,
          450.86,
          714.29,
          841.51,
          971.69,
          0,
          2050.66,
          648.14,
          459.9,
          401.76,
          497.74,
          796.18,
          106.72,
          0,
          291.16,
          638.51,
          284.93,
          715.02,
          172.12,
          843.29,
          514.79,
          0,
          0,
          449.94,
          1481,
          0,
          769.23,
          1250,
          0,
          336.16,
          566.04,
          218.82,
          1071.16,
          685.45,
          1932.52,
          230.95,
          959.58,
          1085.77,
          890.57,
          504.2,
          648.89,
          0,
          458.25,
          478.47,
          0,
          582.88,
          583.45,
          586.04,
          832.57,
          475.06,
          697.2,
          1223.11,
          845.29,
          1077.8,
          670.13,
          853.85,
          2956.52,
          767.26,
          0,
          1145.04,
          425.15,
          300.48,
          989.84,
          2325.58,
          987.99,
          1366.56,
          1754.39,
          2000,
          773.83,
          255.43,
          265.64,
          400.27
         ],
         "y": [
          "Madrid-Retiro",
          "Madrid-Salamanca",
          "Madrid-Centro",
          "Madrid-Arganzuela",
          "Madrid-Chamartín",
          "Madrid-Tetuán",
          "Madrid-Chamberí",
          "Madrid-Fuencarral-El Pardo",
          "Madrid-Moncloa-Aravaca",
          "Madrid-Latina",
          "Madrid-Carabanchel",
          "Madrid-Usera",
          "Madrid-Puente de Vallecas",
          "Madrid-San Blas - Canillejas",
          "Madrid-Barajas",
          "Madrid-Moratalaz",
          "Madrid-Ciudad Lineal",
          "Madrid-Hortaleza",
          "Madrid-Villaverde",
          "Madrid-Villa de Vallecas",
          "Madrid-Vicálvaro",
          "Pozuelo de Alarcón",
          "Alcorcón",
          "Navalcarnero",
          "San Agustín del Guadalix",
          "Las Rozas de Madrid",
          "Moraleja de Enmedio",
          "Valdaracete",
          "Pozuelo del Rey",
          "Puebla de la Sierra",
          "Perales de Tajuña",
          "Valdemorillo",
          "Navalafuente",
          "Velilla de San Antonio",
          "Villanueva de la Cañada",
          "Villanueva del Pardillo",
          "Nuevo Baztán",
          "Villamantilla",
          "Villamanta",
          "Cabanillas de la Sierra",
          "Cenicientos",
          "Puentes Viejas",
          "Aranjuez",
          "Cercedilla",
          "Santorcaz",
          "Coslada",
          "Morata de Tajuña",
          "Robregordo",
          "Navarredonda y San Mamés",
          "Venturada",
          "Navacerrada",
          "Montejo de la Sierra",
          "Fresno de Torote",
          "Pinilla del Valle",
          "Valdemaqueda",
          "Navas del Rey",
          "Olmeda de las Fuentes",
          "Bustarviejo",
          "Becerril de la Sierra",
          "Fuenlabrada",
          "Garganta de los Montes",
          "Pinto",
          "Alameda del Valle",
          "Berzosa del Lozoya",
          "Los Santos de la Humosa",
          "El Álamo",
          "Pelayos de la Presa",
          "Galapagar",
          "Griñón",
          "Gargantilla del Lozoya y Pinilla de Buitrago",
          "Aldea del Fresno",
          "Carabaña",
          "Talamanca de Jarama",
          "Chapinería",
          "Ciempozuelos",
          "Ajalvir",
          "San Lorenzo de El Escorial",
          "Gascones",
          "San Martín de la Vega",
          "Móstoles",
          "Leganés",
          "Braojos",
          "Cubas de la Sagra",
          "Algete",
          "Mejorada del Campo",
          "Loeches",
          "Parla",
          "Fuentidueña de Tajo",
          "Ambite",
          "Torremocha de Jarama",
          "Anchuelo",
          "Los Molinos",
          "Soto del Real",
          "Valverde de Alcalá",
          "Fuente el Saz de Jarama",
          "Horcajo de la Sierra-Aoslos",
          "Valdeolmos-Alalpardo",
          "Campo Real",
          "Valdeavero",
          "Villamanrique de Tajo",
          "Cobeña",
          "Fresnedillas de la Oliva",
          "Valdilecha",
          "El Berrueco",
          "Pezuela de las Torres",
          "Villar del Olmo",
          "Guadarrama",
          "San Martín de Valdeiglesias",
          "Torrelodones",
          "Boadilla del Monte",
          "Torrejón de Velasco",
          "Villanueva de Perales",
          "Tielmes",
          "San Sebastián de los Reyes",
          "Guadalix de la Sierra",
          "Humanes de Madrid",
          "Chinchón",
          "Cadalso de los Vidrios",
          "Hoyo de Manzanares",
          "Torrejón de la Calzada",
          "Estremera",
          "Corpa",
          "Meco",
          "Madarcos",
          "Zarzalejo",
          "Arganda del Rey",
          "Collado Mediano",
          "Daganzo de Arriba",
          "Manzanares El Real",
          "Buitrago del Lozoya",
          "Valdelaguna",
          "Valdepiélagos",
          "Casarrubuelos",
          "Miraflores de la Sierra",
          "Paracuellos de Jarama",
          "El Vellón",
          "Lozoya",
          "Collado Villalba",
          "Colmenarejo",
          "Villavieja del Lozoya",
          "Prádena del Rincón",
          "La Cabrera",
          "Sevilla la Nueva",
          "La Acebeda",
          "Redueña",
          "Robledillo de la Jara",
          "La Serna del Monte",
          "Colmenar de Oreja",
          "Rozas de Puerto Real",
          "Valdemanco",
          "Brunete",
          "Titulcia",
          "Villa del Prado",
          "Lozoyuela-Navas-Sieteiglesias",
          "Quijorna",
          "Valdemoro",
          "Tres Cantos",
          "Torrelaguna",
          "Rivas-Vaciamadrid",
          "El Atazar",
          "Pedrezuela",
          "Santa María de la Alameda",
          "Horcajuelo de la Sierra",
          "Arroyomolinos",
          "Moralzarzal",
          "Canencia",
          "Villarejo de Salvanés",
          "Serranillos del Valle",
          "Villaviciosa de Odón",
          "Camarma de Esteruelas",
          "Robledo de Chavela",
          "Patones",
          "Navalagamella",
          "Rascafría",
          "El Boalo",
          "Majadahonda",
          "Batres",
          "Alcobendas",
          "Alcalá de Henares",
          "Colmenar Viejo",
          "San Fernando de Henares",
          "Villalbilla",
          "El Escorial",
          "Colmenar del Arroyo",
          "Torrejón de Ardoz",
          "Piñuécar-Gandullas",
          "Brea de Tajo",
          "El Molar",
          "Belmonte de Tajo",
          "Torres de la Alameda",
          "Somosierra",
          "Alpedrete",
          "Orusco de Tajuña",
          "La Hiruela",
          "Cervera de Buitrago",
          "Getafe",
          "Ribatejada",
          "Villaconejos",
          "Valdetorres de Jarama"
         ]
        }
       ],
       "layout": {
        "autosize": false,
        "barmode": "stack",
        "height": 2500,
        "paper_bgcolor": "#131211",
        "plot_bgcolor": "#131211",
        "template": {
         "data": {
          "bar": [
           {
            "error_x": {
             "color": "#2a3f5f"
            },
            "error_y": {
             "color": "#2a3f5f"
            },
            "marker": {
             "line": {
              "color": "#E5ECF6",
              "width": 0.5
             }
            },
            "type": "bar"
           }
          ],
          "barpolar": [
           {
            "marker": {
             "line": {
              "color": "#E5ECF6",
              "width": 0.5
             }
            },
            "type": "barpolar"
           }
          ],
          "carpet": [
           {
            "aaxis": {
             "endlinecolor": "#2a3f5f",
             "gridcolor": "white",
             "linecolor": "white",
             "minorgridcolor": "white",
             "startlinecolor": "#2a3f5f"
            },
            "baxis": {
             "endlinecolor": "#2a3f5f",
             "gridcolor": "white",
             "linecolor": "white",
             "minorgridcolor": "white",
             "startlinecolor": "#2a3f5f"
            },
            "type": "carpet"
           }
          ],
          "choropleth": [
           {
            "colorbar": {
             "outlinewidth": 0,
             "ticks": ""
            },
            "type": "choropleth"
           }
          ],
          "contour": [
           {
            "colorbar": {
             "outlinewidth": 0,
             "ticks": ""
            },
            "colorscale": [
             [
              0,
              "#0d0887"
             ],
             [
              0.1111111111111111,
              "#46039f"
             ],
             [
              0.2222222222222222,
              "#7201a8"
             ],
             [
              0.3333333333333333,
              "#9c179e"
             ],
             [
              0.4444444444444444,
              "#bd3786"
             ],
             [
              0.5555555555555556,
              "#d8576b"
             ],
             [
              0.6666666666666666,
              "#ed7953"
             ],
             [
              0.7777777777777778,
              "#fb9f3a"
             ],
             [
              0.8888888888888888,
              "#fdca26"
             ],
             [
              1,
              "#f0f921"
             ]
            ],
            "type": "contour"
           }
          ],
          "contourcarpet": [
           {
            "colorbar": {
             "outlinewidth": 0,
             "ticks": ""
            },
            "type": "contourcarpet"
           }
          ],
          "heatmap": [
           {
            "colorbar": {
             "outlinewidth": 0,
             "ticks": ""
            },
            "colorscale": [
             [
              0,
              "#0d0887"
             ],
             [
              0.1111111111111111,
              "#46039f"
             ],
             [
              0.2222222222222222,
              "#7201a8"
             ],
             [
              0.3333333333333333,
              "#9c179e"
             ],
             [
              0.4444444444444444,
              "#bd3786"
             ],
             [
              0.5555555555555556,
              "#d8576b"
             ],
             [
              0.6666666666666666,
              "#ed7953"
             ],
             [
              0.7777777777777778,
              "#fb9f3a"
             ],
             [
              0.8888888888888888,
              "#fdca26"
             ],
             [
              1,
              "#f0f921"
             ]
            ],
            "type": "heatmap"
           }
          ],
          "heatmapgl": [
           {
            "colorbar": {
             "outlinewidth": 0,
             "ticks": ""
            },
            "colorscale": [
             [
              0,
              "#0d0887"
             ],
             [
              0.1111111111111111,
              "#46039f"
             ],
             [
              0.2222222222222222,
              "#7201a8"
             ],
             [
              0.3333333333333333,
              "#9c179e"
             ],
             [
              0.4444444444444444,
              "#bd3786"
             ],
             [
              0.5555555555555556,
              "#d8576b"
             ],
             [
              0.6666666666666666,
              "#ed7953"
             ],
             [
              0.7777777777777778,
              "#fb9f3a"
             ],
             [
              0.8888888888888888,
              "#fdca26"
             ],
             [
              1,
              "#f0f921"
             ]
            ],
            "type": "heatmapgl"
           }
          ],
          "histogram": [
           {
            "marker": {
             "colorbar": {
              "outlinewidth": 0,
              "ticks": ""
             }
            },
            "type": "histogram"
           }
          ],
          "histogram2d": [
           {
            "colorbar": {
             "outlinewidth": 0,
             "ticks": ""
            },
            "colorscale": [
             [
              0,
              "#0d0887"
             ],
             [
              0.1111111111111111,
              "#46039f"
             ],
             [
              0.2222222222222222,
              "#7201a8"
             ],
             [
              0.3333333333333333,
              "#9c179e"
             ],
             [
              0.4444444444444444,
              "#bd3786"
             ],
             [
              0.5555555555555556,
              "#d8576b"
             ],
             [
              0.6666666666666666,
              "#ed7953"
             ],
             [
              0.7777777777777778,
              "#fb9f3a"
             ],
             [
              0.8888888888888888,
              "#fdca26"
             ],
             [
              1,
              "#f0f921"
             ]
            ],
            "type": "histogram2d"
           }
          ],
          "histogram2dcontour": [
           {
            "colorbar": {
             "outlinewidth": 0,
             "ticks": ""
            },
            "colorscale": [
             [
              0,
              "#0d0887"
             ],
             [
              0.1111111111111111,
              "#46039f"
             ],
             [
              0.2222222222222222,
              "#7201a8"
             ],
             [
              0.3333333333333333,
              "#9c179e"
             ],
             [
              0.4444444444444444,
              "#bd3786"
             ],
             [
              0.5555555555555556,
              "#d8576b"
             ],
             [
              0.6666666666666666,
              "#ed7953"
             ],
             [
              0.7777777777777778,
              "#fb9f3a"
             ],
             [
              0.8888888888888888,
              "#fdca26"
             ],
             [
              1,
              "#f0f921"
             ]
            ],
            "type": "histogram2dcontour"
           }
          ],
          "mesh3d": [
           {
            "colorbar": {
             "outlinewidth": 0,
             "ticks": ""
            },
            "type": "mesh3d"
           }
          ],
          "parcoords": [
           {
            "line": {
             "colorbar": {
              "outlinewidth": 0,
              "ticks": ""
             }
            },
            "type": "parcoords"
           }
          ],
          "pie": [
           {
            "automargin": true,
            "type": "pie"
           }
          ],
          "scatter": [
           {
            "marker": {
             "colorbar": {
              "outlinewidth": 0,
              "ticks": ""
             }
            },
            "type": "scatter"
           }
          ],
          "scatter3d": [
           {
            "line": {
             "colorbar": {
              "outlinewidth": 0,
              "ticks": ""
             }
            },
            "marker": {
             "colorbar": {
              "outlinewidth": 0,
              "ticks": ""
             }
            },
            "type": "scatter3d"
           }
          ],
          "scattercarpet": [
           {
            "marker": {
             "colorbar": {
              "outlinewidth": 0,
              "ticks": ""
             }
            },
            "type": "scattercarpet"
           }
          ],
          "scattergeo": [
           {
            "marker": {
             "colorbar": {
              "outlinewidth": 0,
              "ticks": ""
             }
            },
            "type": "scattergeo"
           }
          ],
          "scattergl": [
           {
            "marker": {
             "colorbar": {
              "outlinewidth": 0,
              "ticks": ""
             }
            },
            "type": "scattergl"
           }
          ],
          "scattermapbox": [
           {
            "marker": {
             "colorbar": {
              "outlinewidth": 0,
              "ticks": ""
             }
            },
            "type": "scattermapbox"
           }
          ],
          "scatterpolar": [
           {
            "marker": {
             "colorbar": {
              "outlinewidth": 0,
              "ticks": ""
             }
            },
            "type": "scatterpolar"
           }
          ],
          "scatterpolargl": [
           {
            "marker": {
             "colorbar": {
              "outlinewidth": 0,
              "ticks": ""
             }
            },
            "type": "scatterpolargl"
           }
          ],
          "scatterternary": [
           {
            "marker": {
             "colorbar": {
              "outlinewidth": 0,
              "ticks": ""
             }
            },
            "type": "scatterternary"
           }
          ],
          "surface": [
           {
            "colorbar": {
             "outlinewidth": 0,
             "ticks": ""
            },
            "colorscale": [
             [
              0,
              "#0d0887"
             ],
             [
              0.1111111111111111,
              "#46039f"
             ],
             [
              0.2222222222222222,
              "#7201a8"
             ],
             [
              0.3333333333333333,
              "#9c179e"
             ],
             [
              0.4444444444444444,
              "#bd3786"
             ],
             [
              0.5555555555555556,
              "#d8576b"
             ],
             [
              0.6666666666666666,
              "#ed7953"
             ],
             [
              0.7777777777777778,
              "#fb9f3a"
             ],
             [
              0.8888888888888888,
              "#fdca26"
             ],
             [
              1,
              "#f0f921"
             ]
            ],
            "type": "surface"
           }
          ],
          "table": [
           {
            "cells": {
             "fill": {
              "color": "#EBF0F8"
             },
             "line": {
              "color": "white"
             }
            },
            "header": {
             "fill": {
              "color": "#C8D4E3"
             },
             "line": {
              "color": "white"
             }
            },
            "type": "table"
           }
          ]
         },
         "layout": {
          "annotationdefaults": {
           "arrowcolor": "#2a3f5f",
           "arrowhead": 0,
           "arrowwidth": 1
          },
          "coloraxis": {
           "colorbar": {
            "outlinewidth": 0,
            "ticks": ""
           }
          },
          "colorscale": {
           "diverging": [
            [
             0,
             "#8e0152"
            ],
            [
             0.1,
             "#c51b7d"
            ],
            [
             0.2,
             "#de77ae"
            ],
            [
             0.3,
             "#f1b6da"
            ],
            [
             0.4,
             "#fde0ef"
            ],
            [
             0.5,
             "#f7f7f7"
            ],
            [
             0.6,
             "#e6f5d0"
            ],
            [
             0.7,
             "#b8e186"
            ],
            [
             0.8,
             "#7fbc41"
            ],
            [
             0.9,
             "#4d9221"
            ],
            [
             1,
             "#276419"
            ]
           ],
           "sequential": [
            [
             0,
             "#0d0887"
            ],
            [
             0.1111111111111111,
             "#46039f"
            ],
            [
             0.2222222222222222,
             "#7201a8"
            ],
            [
             0.3333333333333333,
             "#9c179e"
            ],
            [
             0.4444444444444444,
             "#bd3786"
            ],
            [
             0.5555555555555556,
             "#d8576b"
            ],
            [
             0.6666666666666666,
             "#ed7953"
            ],
            [
             0.7777777777777778,
             "#fb9f3a"
            ],
            [
             0.8888888888888888,
             "#fdca26"
            ],
            [
             1,
             "#f0f921"
            ]
           ],
           "sequentialminus": [
            [
             0,
             "#0d0887"
            ],
            [
             0.1111111111111111,
             "#46039f"
            ],
            [
             0.2222222222222222,
             "#7201a8"
            ],
            [
             0.3333333333333333,
             "#9c179e"
            ],
            [
             0.4444444444444444,
             "#bd3786"
            ],
            [
             0.5555555555555556,
             "#d8576b"
            ],
            [
             0.6666666666666666,
             "#ed7953"
            ],
            [
             0.7777777777777778,
             "#fb9f3a"
            ],
            [
             0.8888888888888888,
             "#fdca26"
            ],
            [
             1,
             "#f0f921"
            ]
           ]
          },
          "colorway": [
           "#636efa",
           "#EF553B",
           "#00cc96",
           "#ab63fa",
           "#FFA15A",
           "#19d3f3",
           "#FF6692",
           "#B6E880",
           "#FF97FF",
           "#FECB52"
          ],
          "font": {
           "color": "#2a3f5f"
          },
          "geo": {
           "bgcolor": "white",
           "lakecolor": "white",
           "landcolor": "#E5ECF6",
           "showlakes": true,
           "showland": true,
           "subunitcolor": "white"
          },
          "hoverlabel": {
           "align": "left"
          },
          "hovermode": "closest",
          "mapbox": {
           "style": "light"
          },
          "paper_bgcolor": "white",
          "plot_bgcolor": "#E5ECF6",
          "polar": {
           "angularaxis": {
            "gridcolor": "white",
            "linecolor": "white",
            "ticks": ""
           },
           "bgcolor": "#E5ECF6",
           "radialaxis": {
            "gridcolor": "white",
            "linecolor": "white",
            "ticks": ""
           }
          },
          "scene": {
           "xaxis": {
            "backgroundcolor": "#E5ECF6",
            "gridcolor": "white",
            "gridwidth": 2,
            "linecolor": "white",
            "showbackground": true,
            "ticks": "",
            "zerolinecolor": "white"
           },
           "yaxis": {
            "backgroundcolor": "#E5ECF6",
            "gridcolor": "white",
            "gridwidth": 2,
            "linecolor": "white",
            "showbackground": true,
            "ticks": "",
            "zerolinecolor": "white"
           },
           "zaxis": {
            "backgroundcolor": "#E5ECF6",
            "gridcolor": "white",
            "gridwidth": 2,
            "linecolor": "white",
            "showbackground": true,
            "ticks": "",
            "zerolinecolor": "white"
           }
          },
          "shapedefaults": {
           "line": {
            "color": "#2a3f5f"
           }
          },
          "ternary": {
           "aaxis": {
            "gridcolor": "white",
            "linecolor": "white",
            "ticks": ""
           },
           "baxis": {
            "gridcolor": "white",
            "linecolor": "white",
            "ticks": ""
           },
           "bgcolor": "#E5ECF6",
           "caxis": {
            "gridcolor": "white",
            "linecolor": "white",
            "ticks": ""
           }
          },
          "title": {
           "x": 0.05
          },
          "xaxis": {
           "automargin": true,
           "gridcolor": "white",
           "linecolor": "white",
           "ticks": "",
           "title": {
            "standoff": 15
           },
           "zerolinecolor": "white",
           "zerolinewidth": 2
          },
          "yaxis": {
           "automargin": true,
           "gridcolor": "white",
           "linecolor": "white",
           "ticks": "",
           "title": {
            "standoff": 15
           },
           "zerolinecolor": "white",
           "zerolinewidth": 2
          }
         }
        },
        "title": {
         "font": {
          "color": "#7D6F63",
          "family": "Helvetica"
         },
         "text": "Tasa de incidencia acumulada total (Casos por cada 100.000 habitantes)"
        },
        "xaxis": {
         "mirror": "allticks",
         "showgrid": false,
         "side": "top",
         "tickfont": {
          "color": "#7D6F63",
          "family": "Helvetica"
         },
         "zeroline": false
        },
        "yaxis": {
         "categoryorder": "total ascending",
         "showgrid": false,
         "tickfont": {
          "color": "#7D6F63",
          "family": "Helvetica"
         },
         "zeroline": false
        }
       }
      },
      "text/html": [
       "<div>\n",
       "        \n",
       "        \n",
       "            <div id=\"d4f6299e-0855-4f9a-a5a1-3ee5134830b8\" class=\"plotly-graph-div\" style=\"height:2500px; width:100%;\"></div>\n",
       "            <script type=\"text/javascript\">\n",
       "                require([\"plotly\"], function(Plotly) {\n",
       "                    window.PLOTLYENV=window.PLOTLYENV || {};\n",
       "                    \n",
       "                if (document.getElementById(\"d4f6299e-0855-4f9a-a5a1-3ee5134830b8\")) {\n",
       "                    Plotly.newPlot(\n",
       "                        'd4f6299e-0855-4f9a-a5a1-3ee5134830b8',\n",
       "                        [{\"marker\": {\"color\": [1163.81, 934.95, 1105.48, 624.62, 605.43, 848.52, 525.7, 1149.43, 174.37, 0.0, 340.72, 391.44, 671.14, 518.06, 840.34, 786.78, 572.52, 632.32, 1109.06, 229.89, 360.58, 1257.99, 1138.91, 869.87, 1053.3, 1153.25, 1348.54, 1131.45, 1225.91, 1212.54, 1195.12, 1089.3, 1011.87, 1326.34, 935.87, 880.58, 1438.09, 1034.75, 937.9, 967.46, 483.09, 1111.77, 604.77, 732.11, 617.0, 478.01, 485.77, 469.67, 1322.75, 1426.46, 294.55, 765.01, 1679.48, 790.07, 1011.5, 1275.54, 0.0, 1550.39, 138.7, 639.3, 283.29, 630.35, 0.0, 640.2, 2741.6, 862.07, 359.57, 560.03, 828.08, 288.18, 571.15, 0.0, 975.61, 772.2, 960.93, 693.37, 835.75, 833.41, 949.37, 2043.69, 696.52, 1581.54, 300.69, 1020.66, 445.67, 794.82, 0.0, 506.0, 1038.32, 1637.51, 975.61, 467.8, 572.51, 807.77, 557.39, 591.74, 925.47, 1182.43, 1472.03, 550.75, 1207.56, 738.72, 1720.43, 537.63, 2758.62, 265.96, 450.89, 579.15, 568.99, 1117.39, 572.52, 613.71, 1052.63, 237.53, 198.91, 1390.97, 1111.24, 1458.87, 687.19, 502.05, 319.9, 1283.02, 603.75, 804.63, 628.07, 525.23, 329.06, 486.13, 450.86, 714.29, 841.51, 971.69, 0.0, 2050.66, 648.14, 459.9, 401.76, 497.74, 796.18, 106.72, 0.0, 291.16, 638.51, 284.93, 715.02, 172.12, 843.29, 514.79, 0.0, 0.0, 449.94, 1481.0, 0.0, 769.23, 1250.0, 0.0, 336.16, 566.04, 218.82, 1071.16, 685.45, 1932.52, 230.95, 959.58, 1085.77, 890.57, 504.2, 648.89, 0.0, 458.25, 478.47, 0.0, 582.88, 583.45, 586.04, 832.57, 475.06, 697.2, 1223.11, 845.29, 1077.8, 670.13, 853.85, 2956.52, 767.26, 0.0, 1145.04, 425.15, 300.48, 989.84, 2325.58, 987.99, 1366.56, 1754.39, 2000.0, 773.83, 255.43, 265.64, 400.27], \"colorscale\": [[0, \"#6BC275\"], [0.25, \"#4F8F56\"], [0.5, \"#FFD045\"], [0.75, \"#FA6D77\"], [1, \"#E61313\"]]}, \"name\": \"Tasa de incidencia acumulada total\", \"orientation\": \"h\", \"type\": \"bar\", \"x\": [1163.81, 934.95, 1105.48, 624.62, 605.43, 848.52, 525.7, 1149.43, 174.37, 0.0, 340.72, 391.44, 671.14, 518.06, 840.34, 786.78, 572.52, 632.32, 1109.06, 229.89, 360.58, 1257.99, 1138.91, 869.87, 1053.3, 1153.25, 1348.54, 1131.45, 1225.91, 1212.54, 1195.12, 1089.3, 1011.87, 1326.34, 935.87, 880.58, 1438.09, 1034.75, 937.9, 967.46, 483.09, 1111.77, 604.77, 732.11, 617.0, 478.01, 485.77, 469.67, 1322.75, 1426.46, 294.55, 765.01, 1679.48, 790.07, 1011.5, 1275.54, 0.0, 1550.39, 138.7, 639.3, 283.29, 630.35, 0.0, 640.2, 2741.6, 862.07, 359.57, 560.03, 828.08, 288.18, 571.15, 0.0, 975.61, 772.2, 960.93, 693.37, 835.75, 833.41, 949.37, 2043.69, 696.52, 1581.54, 300.69, 1020.66, 445.67, 794.82, 0.0, 506.0, 1038.32, 1637.51, 975.61, 467.8, 572.51, 807.77, 557.39, 591.74, 925.47, 1182.43, 1472.03, 550.75, 1207.56, 738.72, 1720.43, 537.63, 2758.62, 265.96, 450.89, 579.15, 568.99, 1117.39, 572.52, 613.71, 1052.63, 237.53, 198.91, 1390.97, 1111.24, 1458.87, 687.19, 502.05, 319.9, 1283.02, 603.75, 804.63, 628.07, 525.23, 329.06, 486.13, 450.86, 714.29, 841.51, 971.69, 0.0, 2050.66, 648.14, 459.9, 401.76, 497.74, 796.18, 106.72, 0.0, 291.16, 638.51, 284.93, 715.02, 172.12, 843.29, 514.79, 0.0, 0.0, 449.94, 1481.0, 0.0, 769.23, 1250.0, 0.0, 336.16, 566.04, 218.82, 1071.16, 685.45, 1932.52, 230.95, 959.58, 1085.77, 890.57, 504.2, 648.89, 0.0, 458.25, 478.47, 0.0, 582.88, 583.45, 586.04, 832.57, 475.06, 697.2, 1223.11, 845.29, 1077.8, 670.13, 853.85, 2956.52, 767.26, 0.0, 1145.04, 425.15, 300.48, 989.84, 2325.58, 987.99, 1366.56, 1754.39, 2000.0, 773.83, 255.43, 265.64, 400.27], \"y\": [\"Madrid-Retiro\", \"Madrid-Salamanca\", \"Madrid-Centro\", \"Madrid-Arganzuela\", \"Madrid-Chamart\\u00edn\", \"Madrid-Tetu\\u00e1n\", \"Madrid-Chamber\\u00ed\", \"Madrid-Fuencarral-El Pardo\", \"Madrid-Moncloa-Aravaca\", \"Madrid-Latina\", \"Madrid-Carabanchel\", \"Madrid-Usera\", \"Madrid-Puente de Vallecas\", \"Madrid-San Blas - Canillejas\", \"Madrid-Barajas\", \"Madrid-Moratalaz\", \"Madrid-Ciudad Lineal\", \"Madrid-Hortaleza\", \"Madrid-Villaverde\", \"Madrid-Villa de Vallecas\", \"Madrid-Vic\\u00e1lvaro\", \"Pozuelo de Alarc\\u00f3n\", \"Alcorc\\u00f3n\", \"Navalcarnero\", \"San Agust\\u00edn del Guadalix\", \"Las Rozas de Madrid\", \"Moraleja de Enmedio\", \"Valdaracete\", \"Pozuelo del Rey\", \"Puebla de la Sierra\", \"Perales de Taju\\u00f1a\", \"Valdemorillo\", \"Navalafuente\", \"Velilla de San Antonio\", \"Villanueva de la Ca\\u00f1ada\", \"Villanueva del Pardillo\", \"Nuevo Bazt\\u00e1n\", \"Villamantilla\", \"Villamanta\", \"Cabanillas de la Sierra\", \"Cenicientos\", \"Puentes Viejas\", \"Aranjuez\", \"Cercedilla\", \"Santorcaz\", \"Coslada\", \"Morata de Taju\\u00f1a\", \"Robregordo\", \"Navarredonda y San Mam\\u00e9s\", \"Venturada\", \"Navacerrada\", \"Montejo de la Sierra\", \"Fresno de Torote\", \"Pinilla del Valle\", \"Valdemaqueda\", \"Navas del Rey\", \"Olmeda de las Fuentes\", \"Bustarviejo\", \"Becerril de la Sierra\", \"Fuenlabrada\", \"Garganta de los Montes\", \"Pinto\", \"Alameda del Valle\", \"Berzosa del Lozoya\", \"Los Santos de la Humosa\", \"El \\u00c1lamo\", \"Pelayos de la Presa\", \"Galapagar\", \"Gri\\u00f1\\u00f3n\", \"Gargantilla del Lozoya y Pinilla de Buitrago\", \"Aldea del Fresno\", \"Caraba\\u00f1a\", \"Talamanca de Jarama\", \"Chapiner\\u00eda\", \"Ciempozuelos\", \"Ajalvir\", \"San Lorenzo de El Escorial\", \"Gascones\", \"San Mart\\u00edn de la Vega\", \"M\\u00f3stoles\", \"Legan\\u00e9s\", \"Braojos\", \"Cubas de la Sagra\", \"Algete\", \"Mejorada del Campo\", \"Loeches\", \"Parla\", \"Fuentidue\\u00f1a de Tajo\", \"Ambite\", \"Torremocha de Jarama\", \"Anchuelo\", \"Los Molinos\", \"Soto del Real\", \"Valverde de Alcal\\u00e1\", \"Fuente el Saz de Jarama\", \"Horcajo de la Sierra-Aoslos\", \"Valdeolmos-Alalpardo\", \"Campo Real\", \"Valdeavero\", \"Villamanrique de Tajo\", \"Cobe\\u00f1a\", \"Fresnedillas de la Oliva\", \"Valdilecha\", \"El Berrueco\", \"Pezuela de las Torres\", \"Villar del Olmo\", \"Guadarrama\", \"San Mart\\u00edn de Valdeiglesias\", \"Torrelodones\", \"Boadilla del Monte\", \"Torrej\\u00f3n de Velasco\", \"Villanueva de Perales\", \"Tielmes\", \"San Sebasti\\u00e1n de los Reyes\", \"Guadalix de la Sierra\", \"Humanes de Madrid\", \"Chinch\\u00f3n\", \"Cadalso de los Vidrios\", \"Hoyo de Manzanares\", \"Torrej\\u00f3n de la Calzada\", \"Estremera\", \"Corpa\", \"Meco\", \"Madarcos\", \"Zarzalejo\", \"Arganda del Rey\", \"Collado Mediano\", \"Daganzo de Arriba\", \"Manzanares El Real\", \"Buitrago del Lozoya\", \"Valdelaguna\", \"Valdepi\\u00e9lagos\", \"Casarrubuelos\", \"Miraflores de la Sierra\", \"Paracuellos de Jarama\", \"El Vell\\u00f3n\", \"Lozoya\", \"Collado Villalba\", \"Colmenarejo\", \"Villavieja del Lozoya\", \"Pr\\u00e1dena del Rinc\\u00f3n\", \"La Cabrera\", \"Sevilla la Nueva\", \"La Acebeda\", \"Redue\\u00f1a\", \"Robledillo de la Jara\", \"La Serna del Monte\", \"Colmenar de Oreja\", \"Rozas de Puerto Real\", \"Valdemanco\", \"Brunete\", \"Titulcia\", \"Villa del Prado\", \"Lozoyuela-Navas-Sieteiglesias\", \"Quijorna\", \"Valdemoro\", \"Tres Cantos\", \"Torrelaguna\", \"Rivas-Vaciamadrid\", \"El Atazar\", \"Pedrezuela\", \"Santa Mar\\u00eda de la Alameda\", \"Horcajuelo de la Sierra\", \"Arroyomolinos\", \"Moralzarzal\", \"Canencia\", \"Villarejo de Salvan\\u00e9s\", \"Serranillos del Valle\", \"Villaviciosa de Od\\u00f3n\", \"Camarma de Esteruelas\", \"Robledo de Chavela\", \"Patones\", \"Navalagamella\", \"Rascafr\\u00eda\", \"El Boalo\", \"Majadahonda\", \"Batres\", \"Alcobendas\", \"Alcal\\u00e1 de Henares\", \"Colmenar Viejo\", \"San Fernando de Henares\", \"Villalbilla\", \"El Escorial\", \"Colmenar del Arroyo\", \"Torrej\\u00f3n de Ardoz\", \"Pi\\u00f1u\\u00e9car-Gandullas\", \"Brea de Tajo\", \"El Molar\", \"Belmonte de Tajo\", \"Torres de la Alameda\", \"Somosierra\", \"Alpedrete\", \"Orusco de Taju\\u00f1a\", \"La Hiruela\", \"Cervera de Buitrago\", \"Getafe\", \"Ribatejada\", \"Villaconejos\", \"Valdetorres de Jarama\"]}],\n",
       "                        {\"autosize\": false, \"barmode\": \"stack\", \"height\": 2500, \"paper_bgcolor\": \"#131211\", \"plot_bgcolor\": \"#131211\", \"template\": {\"data\": {\"bar\": [{\"error_x\": {\"color\": \"#2a3f5f\"}, \"error_y\": {\"color\": \"#2a3f5f\"}, \"marker\": {\"line\": {\"color\": \"#E5ECF6\", \"width\": 0.5}}, \"type\": \"bar\"}], \"barpolar\": [{\"marker\": {\"line\": {\"color\": \"#E5ECF6\", \"width\": 0.5}}, \"type\": \"barpolar\"}], \"carpet\": [{\"aaxis\": {\"endlinecolor\": \"#2a3f5f\", \"gridcolor\": \"white\", \"linecolor\": \"white\", \"minorgridcolor\": \"white\", \"startlinecolor\": \"#2a3f5f\"}, \"baxis\": {\"endlinecolor\": \"#2a3f5f\", \"gridcolor\": \"white\", \"linecolor\": \"white\", \"minorgridcolor\": \"white\", \"startlinecolor\": \"#2a3f5f\"}, \"type\": \"carpet\"}], \"choropleth\": [{\"colorbar\": {\"outlinewidth\": 0, \"ticks\": \"\"}, \"type\": \"choropleth\"}], \"contour\": [{\"colorbar\": {\"outlinewidth\": 0, \"ticks\": \"\"}, \"colorscale\": [[0.0, \"#0d0887\"], [0.1111111111111111, \"#46039f\"], [0.2222222222222222, \"#7201a8\"], [0.3333333333333333, \"#9c179e\"], [0.4444444444444444, \"#bd3786\"], [0.5555555555555556, \"#d8576b\"], [0.6666666666666666, \"#ed7953\"], [0.7777777777777778, \"#fb9f3a\"], [0.8888888888888888, \"#fdca26\"], [1.0, \"#f0f921\"]], \"type\": \"contour\"}], \"contourcarpet\": [{\"colorbar\": {\"outlinewidth\": 0, \"ticks\": \"\"}, \"type\": \"contourcarpet\"}], \"heatmap\": [{\"colorbar\": {\"outlinewidth\": 0, \"ticks\": \"\"}, \"colorscale\": [[0.0, \"#0d0887\"], [0.1111111111111111, \"#46039f\"], [0.2222222222222222, \"#7201a8\"], [0.3333333333333333, \"#9c179e\"], [0.4444444444444444, \"#bd3786\"], [0.5555555555555556, \"#d8576b\"], [0.6666666666666666, \"#ed7953\"], [0.7777777777777778, \"#fb9f3a\"], [0.8888888888888888, \"#fdca26\"], [1.0, \"#f0f921\"]], \"type\": \"heatmap\"}], \"heatmapgl\": [{\"colorbar\": {\"outlinewidth\": 0, \"ticks\": \"\"}, \"colorscale\": [[0.0, \"#0d0887\"], [0.1111111111111111, \"#46039f\"], [0.2222222222222222, \"#7201a8\"], [0.3333333333333333, \"#9c179e\"], [0.4444444444444444, \"#bd3786\"], [0.5555555555555556, \"#d8576b\"], [0.6666666666666666, \"#ed7953\"], [0.7777777777777778, \"#fb9f3a\"], [0.8888888888888888, \"#fdca26\"], [1.0, \"#f0f921\"]], \"type\": \"heatmapgl\"}], \"histogram\": [{\"marker\": {\"colorbar\": {\"outlinewidth\": 0, \"ticks\": \"\"}}, \"type\": \"histogram\"}], \"histogram2d\": [{\"colorbar\": {\"outlinewidth\": 0, \"ticks\": \"\"}, \"colorscale\": [[0.0, \"#0d0887\"], [0.1111111111111111, \"#46039f\"], [0.2222222222222222, \"#7201a8\"], [0.3333333333333333, \"#9c179e\"], [0.4444444444444444, \"#bd3786\"], [0.5555555555555556, \"#d8576b\"], [0.6666666666666666, \"#ed7953\"], [0.7777777777777778, \"#fb9f3a\"], [0.8888888888888888, \"#fdca26\"], [1.0, \"#f0f921\"]], \"type\": \"histogram2d\"}], \"histogram2dcontour\": [{\"colorbar\": {\"outlinewidth\": 0, \"ticks\": \"\"}, \"colorscale\": [[0.0, \"#0d0887\"], [0.1111111111111111, \"#46039f\"], [0.2222222222222222, \"#7201a8\"], [0.3333333333333333, \"#9c179e\"], [0.4444444444444444, \"#bd3786\"], [0.5555555555555556, \"#d8576b\"], [0.6666666666666666, \"#ed7953\"], [0.7777777777777778, \"#fb9f3a\"], [0.8888888888888888, \"#fdca26\"], [1.0, \"#f0f921\"]], \"type\": \"histogram2dcontour\"}], \"mesh3d\": [{\"colorbar\": {\"outlinewidth\": 0, \"ticks\": \"\"}, \"type\": \"mesh3d\"}], \"parcoords\": [{\"line\": {\"colorbar\": {\"outlinewidth\": 0, \"ticks\": \"\"}}, \"type\": \"parcoords\"}], \"pie\": [{\"automargin\": true, \"type\": \"pie\"}], \"scatter\": [{\"marker\": {\"colorbar\": {\"outlinewidth\": 0, \"ticks\": \"\"}}, \"type\": \"scatter\"}], \"scatter3d\": [{\"line\": {\"colorbar\": {\"outlinewidth\": 0, \"ticks\": \"\"}}, \"marker\": {\"colorbar\": {\"outlinewidth\": 0, \"ticks\": \"\"}}, \"type\": \"scatter3d\"}], \"scattercarpet\": [{\"marker\": {\"colorbar\": {\"outlinewidth\": 0, \"ticks\": \"\"}}, \"type\": \"scattercarpet\"}], \"scattergeo\": [{\"marker\": {\"colorbar\": {\"outlinewidth\": 0, \"ticks\": \"\"}}, \"type\": \"scattergeo\"}], \"scattergl\": [{\"marker\": {\"colorbar\": {\"outlinewidth\": 0, \"ticks\": \"\"}}, \"type\": \"scattergl\"}], \"scattermapbox\": [{\"marker\": {\"colorbar\": {\"outlinewidth\": 0, \"ticks\": \"\"}}, \"type\": \"scattermapbox\"}], \"scatterpolar\": [{\"marker\": {\"colorbar\": {\"outlinewidth\": 0, \"ticks\": \"\"}}, \"type\": \"scatterpolar\"}], \"scatterpolargl\": [{\"marker\": {\"colorbar\": {\"outlinewidth\": 0, \"ticks\": \"\"}}, \"type\": \"scatterpolargl\"}], \"scatterternary\": [{\"marker\": {\"colorbar\": {\"outlinewidth\": 0, \"ticks\": \"\"}}, \"type\": \"scatterternary\"}], \"surface\": [{\"colorbar\": {\"outlinewidth\": 0, \"ticks\": \"\"}, \"colorscale\": [[0.0, \"#0d0887\"], [0.1111111111111111, \"#46039f\"], [0.2222222222222222, \"#7201a8\"], [0.3333333333333333, \"#9c179e\"], [0.4444444444444444, \"#bd3786\"], [0.5555555555555556, \"#d8576b\"], [0.6666666666666666, \"#ed7953\"], [0.7777777777777778, \"#fb9f3a\"], [0.8888888888888888, \"#fdca26\"], [1.0, \"#f0f921\"]], \"type\": \"surface\"}], \"table\": [{\"cells\": {\"fill\": {\"color\": \"#EBF0F8\"}, \"line\": {\"color\": \"white\"}}, \"header\": {\"fill\": {\"color\": \"#C8D4E3\"}, \"line\": {\"color\": \"white\"}}, \"type\": \"table\"}]}, \"layout\": {\"annotationdefaults\": {\"arrowcolor\": \"#2a3f5f\", \"arrowhead\": 0, \"arrowwidth\": 1}, \"coloraxis\": {\"colorbar\": {\"outlinewidth\": 0, \"ticks\": \"\"}}, \"colorscale\": {\"diverging\": [[0, \"#8e0152\"], [0.1, \"#c51b7d\"], [0.2, \"#de77ae\"], [0.3, \"#f1b6da\"], [0.4, \"#fde0ef\"], [0.5, \"#f7f7f7\"], [0.6, \"#e6f5d0\"], [0.7, \"#b8e186\"], [0.8, \"#7fbc41\"], [0.9, \"#4d9221\"], [1, \"#276419\"]], \"sequential\": [[0.0, \"#0d0887\"], [0.1111111111111111, \"#46039f\"], [0.2222222222222222, \"#7201a8\"], [0.3333333333333333, \"#9c179e\"], [0.4444444444444444, \"#bd3786\"], [0.5555555555555556, \"#d8576b\"], [0.6666666666666666, \"#ed7953\"], [0.7777777777777778, \"#fb9f3a\"], [0.8888888888888888, \"#fdca26\"], [1.0, \"#f0f921\"]], \"sequentialminus\": [[0.0, \"#0d0887\"], [0.1111111111111111, \"#46039f\"], [0.2222222222222222, \"#7201a8\"], [0.3333333333333333, \"#9c179e\"], [0.4444444444444444, \"#bd3786\"], [0.5555555555555556, \"#d8576b\"], [0.6666666666666666, \"#ed7953\"], [0.7777777777777778, \"#fb9f3a\"], [0.8888888888888888, \"#fdca26\"], [1.0, \"#f0f921\"]]}, \"colorway\": [\"#636efa\", \"#EF553B\", \"#00cc96\", \"#ab63fa\", \"#FFA15A\", \"#19d3f3\", \"#FF6692\", \"#B6E880\", \"#FF97FF\", \"#FECB52\"], \"font\": {\"color\": \"#2a3f5f\"}, \"geo\": {\"bgcolor\": \"white\", \"lakecolor\": \"white\", \"landcolor\": \"#E5ECF6\", \"showlakes\": true, \"showland\": true, \"subunitcolor\": \"white\"}, \"hoverlabel\": {\"align\": \"left\"}, \"hovermode\": \"closest\", \"mapbox\": {\"style\": \"light\"}, \"paper_bgcolor\": \"white\", \"plot_bgcolor\": \"#E5ECF6\", \"polar\": {\"angularaxis\": {\"gridcolor\": \"white\", \"linecolor\": \"white\", \"ticks\": \"\"}, \"bgcolor\": \"#E5ECF6\", \"radialaxis\": {\"gridcolor\": \"white\", \"linecolor\": \"white\", \"ticks\": \"\"}}, \"scene\": {\"xaxis\": {\"backgroundcolor\": \"#E5ECF6\", \"gridcolor\": \"white\", \"gridwidth\": 2, \"linecolor\": \"white\", \"showbackground\": true, \"ticks\": \"\", \"zerolinecolor\": \"white\"}, \"yaxis\": {\"backgroundcolor\": \"#E5ECF6\", \"gridcolor\": \"white\", \"gridwidth\": 2, \"linecolor\": \"white\", \"showbackground\": true, \"ticks\": \"\", \"zerolinecolor\": \"white\"}, \"zaxis\": {\"backgroundcolor\": \"#E5ECF6\", \"gridcolor\": \"white\", \"gridwidth\": 2, \"linecolor\": \"white\", \"showbackground\": true, \"ticks\": \"\", \"zerolinecolor\": \"white\"}}, \"shapedefaults\": {\"line\": {\"color\": \"#2a3f5f\"}}, \"ternary\": {\"aaxis\": {\"gridcolor\": \"white\", \"linecolor\": \"white\", \"ticks\": \"\"}, \"baxis\": {\"gridcolor\": \"white\", \"linecolor\": \"white\", \"ticks\": \"\"}, \"bgcolor\": \"#E5ECF6\", \"caxis\": {\"gridcolor\": \"white\", \"linecolor\": \"white\", \"ticks\": \"\"}}, \"title\": {\"x\": 0.05}, \"xaxis\": {\"automargin\": true, \"gridcolor\": \"white\", \"linecolor\": \"white\", \"ticks\": \"\", \"title\": {\"standoff\": 15}, \"zerolinecolor\": \"white\", \"zerolinewidth\": 2}, \"yaxis\": {\"automargin\": true, \"gridcolor\": \"white\", \"linecolor\": \"white\", \"ticks\": \"\", \"title\": {\"standoff\": 15}, \"zerolinecolor\": \"white\", \"zerolinewidth\": 2}}}, \"title\": {\"font\": {\"color\": \"#7D6F63\", \"family\": \"Helvetica\"}, \"text\": \"Tasa de incidencia acumulada total (Casos por cada 100.000 habitantes)\"}, \"xaxis\": {\"mirror\": \"allticks\", \"showgrid\": false, \"side\": \"top\", \"tickfont\": {\"color\": \"#7D6F63\", \"family\": \"Helvetica\"}, \"zeroline\": false}, \"yaxis\": {\"categoryorder\": \"total ascending\", \"showgrid\": false, \"tickfont\": {\"color\": \"#7D6F63\", \"family\": \"Helvetica\"}, \"zeroline\": false}},\n",
       "                        {\"responsive\": true}\n",
       "                    ).then(function(){\n",
       "                            \n",
       "var gd = document.getElementById('d4f6299e-0855-4f9a-a5a1-3ee5134830b8');\n",
       "var x = new MutationObserver(function (mutations, observer) {{\n",
       "        var display = window.getComputedStyle(gd).display;\n",
       "        if (!display || display === 'none') {{\n",
       "            console.log([gd, 'removed!']);\n",
       "            Plotly.purge(gd);\n",
       "            observer.disconnect();\n",
       "        }}\n",
       "}});\n",
       "\n",
       "// Listen for the removal of the full notebook cells\n",
       "var notebookContainer = gd.closest('#notebook-container');\n",
       "if (notebookContainer) {{\n",
       "    x.observe(notebookContainer, {childList: true});\n",
       "}}\n",
       "\n",
       "// Listen for the clearing of the current output cell\n",
       "var outputEl = gd.closest('.output');\n",
       "if (outputEl) {{\n",
       "    x.observe(outputEl, {childList: true});\n",
       "}}\n",
       "\n",
       "                        })\n",
       "                };\n",
       "                });\n",
       "            </script>\n",
       "        </div>"
      ]
     },
     "metadata": {},
     "output_type": "display_data"
    }
   ],
   "source": [
    "fig = go.Figure()\n",
    "\n",
    "fig.add_trace(go.Bar(\n",
    "    x=merged_covid[merged_covid['fecha_informe'] == ls_day[90]].tasa_incidencia_acumulada_total,\n",
    "    y=ls_municipios,\n",
    "    name='Tasa de incidencia acumulada total',\n",
    "    orientation='h',\n",
    "    marker={'color': merged_covid[merged_covid['fecha_informe'] == ls_day[90]].tasa_incidencia_acumulada_total,\n",
    "            'colorscale': [[0, '#6BC275'], [0.25, '#4F8F56'], [0.5, '#FFD045'],[0.75, '#FA6D77'], [1, '#E61313']]}\n",
    "    #color=merged_covid[merged_covid['fecha_informe'] == ls_day[90]].tasa_incidencia_acumulada_total,\n",
    "    #colorscale=[[0, '#6BC275'], [0.25, '#4F8F56'], [0.5, '#FFD045'],[0.75, '#FA6D77'], [1, '#E61313']],\n",
    "))\n",
    "\n",
    "fig.update_xaxes(showgrid=False, zeroline=False, tickfont=dict(family='Helvetica', color='#7D6F63'))\n",
    "fig.update_yaxes(showgrid=False, zeroline=False, tickfont=dict(family='Helvetica', color='#7D6F63'))\n",
    "\n",
    "fig.update_layout(barmode='stack',\n",
    "                  title='Tasa de incidencia acumulada total (Casos por cada 100.000 habitantes)',\n",
    "                  titlefont=dict(family='Helvetica', color='#7D6F63'),\n",
    "                  xaxis={\"mirror\" : \"allticks\", 'side': 'top'},\n",
    "                  yaxis={'categoryorder':'total ascending'},\n",
    "                  plot_bgcolor = '#131211',\n",
    "                  paper_bgcolor='#131211',\n",
    "                  autosize=False,\n",
    "                  height=2500\n",
    "                 )\n"
   ]
  },
  {
   "cell_type": "code",
   "execution_count": null,
   "metadata": {},
   "outputs": [],
   "source": []
  }
 ],
 "metadata": {
  "@webio": {
   "lastCommId": null,
   "lastKernelId": null
  },
  "kernelspec": {
   "display_name": "Python 3",
   "language": "python",
   "name": "python3"
  },
  "language_info": {
   "codemirror_mode": {
    "name": "ipython",
    "version": 3
   },
   "file_extension": ".py",
   "mimetype": "text/x-python",
   "name": "python",
   "nbconvert_exporter": "python",
   "pygments_lexer": "ipython3",
   "version": "3.7.4"
  }
 },
 "nbformat": 4,
 "nbformat_minor": 2
}
